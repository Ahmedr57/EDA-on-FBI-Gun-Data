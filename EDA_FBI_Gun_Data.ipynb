{
  "cells": [
    {
      "cell_type": "markdown",
      "metadata": {
        "id": "view-in-github",
        "colab_type": "text"
      },
      "source": [
        "<a href=\"https://colab.research.google.com/github/Ahmedr57/EDA-on-FBI-Gun-Data/blob/main/EDA_FBI_Gun_Data.ipynb\" target=\"_parent\"><img src=\"https://colab.research.google.com/assets/colab-badge.svg\" alt=\"Open In Colab\"/></a>"
      ]
    },
    {
      "cell_type": "markdown",
      "id": "f31d0977",
      "metadata": {
        "id": "f31d0977"
      },
      "source": [
        "<h2 align = center>Muhammad Ahmed Raza <br>\n",
        "</h2>\n",
        "\n",
        "<h1 align = center>Project: Investigate a Dataset (FBI Gun Data)</h1>\n"
      ]
    },
    {
      "cell_type": "markdown",
      "id": "44cbdee0",
      "metadata": {
        "id": "44cbdee0"
      },
      "source": [
        "## Table of Contents\n",
        "<ul>\n",
        "<li><a href=\"#intro\">Introduction</a></li>\n",
        "<li><a href=\"#wrangling\">Data Wrangling</a></li>\n",
        "<li><a href=\"#eda\">Exploratory Data Analysis</a></li>\n",
        "<li><a href=\"#conclusions\">Conclusions</a></li>\n",
        "</ul>"
      ]
    },
    {
      "cell_type": "markdown",
      "id": "23e627bc",
      "metadata": {
        "id": "23e627bc"
      },
      "source": [
        "<a id='intro'></a>\n",
        "## Introduction\n",
        "\n",
        "> The data comes from the FBI's National Instant Criminal Background Check System. The NICS is used by to determine whether a prospective buyer is eligible to buy firearms or explosives. Gun shops call into this system to ensure that each customer does not have a criminal record or isn’t otherwise ineligible to make a purchase.\n",
        "<h4>Research Questions</h4>\n",
        "<ul style=\"list-style-type:square;\">\n",
        "  <li>On average, How many peoples purchase Guns from 1998-2017 in State of Alabama?</li>\n",
        "  <li>What is the trend of buying guns in State of Alabama?</li>\n",
        "  <li>In which year more guns were purchased?</li>\n",
        "  <li>Which State has the most purchased guns in 2016?</li>\n",
        "</ul>"
      ]
    },
    {
      "cell_type": "code",
      "execution_count": null,
      "id": "2ce9201c",
      "metadata": {
        "scrolled": false,
        "id": "2ce9201c"
      },
      "outputs": [],
      "source": [
        "import pandas as pd\n",
        "import numpy as np\n",
        "import matplotlib.pyplot as plt\n"
      ]
    },
    {
      "cell_type": "markdown",
      "id": "e24e2151",
      "metadata": {
        "id": "e24e2151"
      },
      "source": [
        "<a id='wrangling'></a>\n",
        "## Data Wrangling\n",
        "\n",
        "### General Properties"
      ]
    },
    {
      "cell_type": "code",
      "execution_count": null,
      "id": "f19980dd",
      "metadata": {
        "id": "f19980dd",
        "outputId": "18a0fd1a-67e5-4321-9e3c-75a9c5f8ac0c"
      },
      "outputs": [
        {
          "name": "stdout",
          "output_type": "stream",
          "text": [
            "     month       state   permit  permit_recheck  handgun  long_gun   other  \\\n",
            "0  2017-09     Alabama  16717.0             0.0   5734.0    6320.0   221.0   \n",
            "1  2017-09      Alaska    209.0             2.0   2320.0    2930.0   219.0   \n",
            "2  2017-09     Arizona   5069.0           382.0  11063.0    7946.0   920.0   \n",
            "3  2017-09    Arkansas   2935.0           632.0   4347.0    6063.0   165.0   \n",
            "4  2017-09  California  57839.0             0.0  37165.0   24581.0  2984.0   \n",
            "\n",
            "   multiple  admin  prepawn_handgun  ...  returned_other  rentals_handgun  \\\n",
            "0       317    0.0             15.0  ...             0.0              0.0   \n",
            "1       160    0.0              5.0  ...             0.0              0.0   \n",
            "2       631    0.0             13.0  ...             0.0              0.0   \n",
            "3       366   51.0             12.0  ...             0.0              0.0   \n",
            "4         0    0.0              0.0  ...             0.0              0.0   \n",
            "\n",
            "   rentals_long_gun  private_sale_handgun  private_sale_long_gun  \\\n",
            "0               0.0                   9.0                   16.0   \n",
            "1               0.0                  17.0                   24.0   \n",
            "2               0.0                  38.0                   12.0   \n",
            "3               0.0                  13.0                   23.0   \n",
            "4               0.0                   0.0                    0.0   \n",
            "\n",
            "   private_sale_other  return_to_seller_handgun  return_to_seller_long_gun  \\\n",
            "0                 3.0                       0.0                        0.0   \n",
            "1                 1.0                       0.0                        0.0   \n",
            "2                 2.0                       0.0                        0.0   \n",
            "3                 0.0                       0.0                        2.0   \n",
            "4                 0.0                       0.0                        0.0   \n",
            "\n",
            "   return_to_seller_other  totals  \n",
            "0                     3.0   32019  \n",
            "1                     0.0    6303  \n",
            "2                     0.0   28394  \n",
            "3                     1.0   17747  \n",
            "4                     0.0  123506  \n",
            "\n",
            "[5 rows x 27 columns]\n"
          ]
        }
      ],
      "source": [
        "df = pd.read_csv(r\"gun_data.csv\")\n",
        "print(df.head())"
      ]
    },
    {
      "cell_type": "markdown",
      "id": "4cf408a1",
      "metadata": {
        "id": "4cf408a1"
      },
      "source": [
        "### Data Cleaning (Guns Data)"
      ]
    },
    {
      "cell_type": "code",
      "execution_count": null,
      "id": "d0865b4c",
      "metadata": {
        "id": "d0865b4c",
        "outputId": "8e99ccf9-e826-45d3-88e4-66d8f54f4b27"
      },
      "outputs": [
        {
          "data": {
            "text/plain": [
              "<bound method NDFrame.describe of          month          state   permit  permit_recheck  handgun  long_gun  \\\n",
              "0      2017-09        Alabama  16717.0             0.0   5734.0    6320.0   \n",
              "1      2017-09         Alaska    209.0             2.0   2320.0    2930.0   \n",
              "2      2017-09        Arizona   5069.0           382.0  11063.0    7946.0   \n",
              "3      2017-09       Arkansas   2935.0           632.0   4347.0    6063.0   \n",
              "4      2017-09     California  57839.0             0.0  37165.0   24581.0   \n",
              "...        ...            ...      ...             ...      ...       ...   \n",
              "12480  1998-11       Virginia      0.0             NaN     14.0       2.0   \n",
              "12481  1998-11     Washington      1.0             NaN     65.0     286.0   \n",
              "12482  1998-11  West Virginia      3.0             NaN    149.0     251.0   \n",
              "12483  1998-11      Wisconsin      0.0             NaN     25.0     214.0   \n",
              "12484  1998-11        Wyoming      8.0             NaN     45.0      49.0   \n",
              "\n",
              "        other  multiple  admin  prepawn_handgun  ...  returned_other  \\\n",
              "0       221.0       317    0.0             15.0  ...             0.0   \n",
              "1       219.0       160    0.0              5.0  ...             0.0   \n",
              "2       920.0       631    0.0             13.0  ...             0.0   \n",
              "3       165.0       366   51.0             12.0  ...             0.0   \n",
              "4      2984.0         0    0.0              0.0  ...             0.0   \n",
              "...       ...       ...    ...              ...  ...             ...   \n",
              "12480     NaN         8    0.0              NaN  ...             NaN   \n",
              "12481     NaN         8    1.0              NaN  ...             NaN   \n",
              "12482     NaN         5    0.0              NaN  ...             NaN   \n",
              "12483     NaN         2    0.0              NaN  ...             NaN   \n",
              "12484     NaN         5    0.0              NaN  ...             NaN   \n",
              "\n",
              "       rentals_handgun  rentals_long_gun  private_sale_handgun  \\\n",
              "0                  0.0               0.0                   9.0   \n",
              "1                  0.0               0.0                  17.0   \n",
              "2                  0.0               0.0                  38.0   \n",
              "3                  0.0               0.0                  13.0   \n",
              "4                  0.0               0.0                   0.0   \n",
              "...                ...               ...                   ...   \n",
              "12480              NaN               NaN                   NaN   \n",
              "12481              NaN               NaN                   NaN   \n",
              "12482              NaN               NaN                   NaN   \n",
              "12483              NaN               NaN                   NaN   \n",
              "12484              NaN               NaN                   NaN   \n",
              "\n",
              "       private_sale_long_gun  private_sale_other  return_to_seller_handgun  \\\n",
              "0                       16.0                 3.0                       0.0   \n",
              "1                       24.0                 1.0                       0.0   \n",
              "2                       12.0                 2.0                       0.0   \n",
              "3                       23.0                 0.0                       0.0   \n",
              "4                        0.0                 0.0                       0.0   \n",
              "...                      ...                 ...                       ...   \n",
              "12480                    NaN                 NaN                       NaN   \n",
              "12481                    NaN                 NaN                       NaN   \n",
              "12482                    NaN                 NaN                       NaN   \n",
              "12483                    NaN                 NaN                       NaN   \n",
              "12484                    NaN                 NaN                       NaN   \n",
              "\n",
              "       return_to_seller_long_gun  return_to_seller_other  totals  \n",
              "0                            0.0                     3.0   32019  \n",
              "1                            0.0                     0.0    6303  \n",
              "2                            0.0                     0.0   28394  \n",
              "3                            2.0                     1.0   17747  \n",
              "4                            0.0                     0.0  123506  \n",
              "...                          ...                     ...     ...  \n",
              "12480                        NaN                     NaN      24  \n",
              "12481                        NaN                     NaN     361  \n",
              "12482                        NaN                     NaN     408  \n",
              "12483                        NaN                     NaN     241  \n",
              "12484                        NaN                     NaN     107  \n",
              "\n",
              "[12485 rows x 27 columns]>"
            ]
          },
          "execution_count": 32,
          "metadata": {},
          "output_type": "execute_result"
        }
      ],
      "source": [
        "df.describe"
      ]
    },
    {
      "cell_type": "code",
      "execution_count": null,
      "id": "bba752ae",
      "metadata": {
        "id": "bba752ae",
        "outputId": "dd5efa44-f66d-4b5b-89d6-0ba1ffee5d29"
      },
      "outputs": [
        {
          "name": "stdout",
          "output_type": "stream",
          "text": [
            "(12485, 27)\n"
          ]
        }
      ],
      "source": [
        "print(df.shape)"
      ]
    },
    {
      "cell_type": "code",
      "execution_count": null,
      "id": "22c84863",
      "metadata": {
        "id": "22c84863",
        "outputId": "a59e8892-f221-4510-f025-c6d3cb719c90"
      },
      "outputs": [
        {
          "data": {
            "text/plain": [
              "Index(['month', 'state', 'permit', 'permit_recheck', 'handgun', 'long_gun',\n",
              "       'other', 'multiple', 'admin', 'prepawn_handgun', 'prepawn_long_gun',\n",
              "       'prepawn_other', 'redemption_handgun', 'redemption_long_gun',\n",
              "       'redemption_other', 'returned_handgun', 'returned_long_gun',\n",
              "       'returned_other', 'rentals_handgun', 'rentals_long_gun',\n",
              "       'private_sale_handgun', 'private_sale_long_gun', 'private_sale_other',\n",
              "       'return_to_seller_handgun', 'return_to_seller_long_gun',\n",
              "       'return_to_seller_other', 'totals'],\n",
              "      dtype='object')"
            ]
          },
          "execution_count": 34,
          "metadata": {},
          "output_type": "execute_result"
        }
      ],
      "source": [
        "df.columns"
      ]
    },
    {
      "cell_type": "code",
      "execution_count": null,
      "id": "8540d822",
      "metadata": {
        "id": "8540d822",
        "outputId": "0b78c869-f6e7-47b5-935a-7b7ba798f19e"
      },
      "outputs": [
        {
          "data": {
            "text/plain": [
              "month                            0\n",
              "state                            0\n",
              "permit                          24\n",
              "permit_recheck               11385\n",
              "handgun                         20\n",
              "long_gun                        19\n",
              "other                         6985\n",
              "multiple                         0\n",
              "admin                           23\n",
              "prepawn_handgun               1943\n",
              "prepawn_long_gun              1945\n",
              "prepawn_other                 7370\n",
              "redemption_handgun            1940\n",
              "redemption_long_gun           1941\n",
              "redemption_other              7370\n",
              "returned_handgun             10285\n",
              "returned_long_gun            10340\n",
              "returned_other               10670\n",
              "rentals_handgun              11495\n",
              "rentals_long_gun             11660\n",
              "private_sale_handgun          9735\n",
              "private_sale_long_gun         9735\n",
              "private_sale_other            9735\n",
              "return_to_seller_handgun     10010\n",
              "return_to_seller_long_gun     9735\n",
              "return_to_seller_other       10230\n",
              "totals                           0\n",
              "dtype: int64"
            ]
          },
          "execution_count": 35,
          "metadata": {},
          "output_type": "execute_result"
        }
      ],
      "source": [
        "df.isnull().sum()"
      ]
    },
    {
      "cell_type": "markdown",
      "id": "e51f8ef8",
      "metadata": {
        "id": "e51f8ef8"
      },
      "source": [
        "<h5>Through the command below I am going to drop all the columns which are not of my intrest.</h5>"
      ]
    },
    {
      "cell_type": "code",
      "execution_count": null,
      "id": "d9059d31",
      "metadata": {
        "id": "d9059d31",
        "outputId": "d98f2953-c369-4ad4-9472-7354b09a5be1"
      },
      "outputs": [
        {
          "name": "stdout",
          "output_type": "stream",
          "text": [
            "     month       state   permit  handgun  long_gun  multiple  totals\n",
            "0  2017-09     Alabama  16717.0   5734.0    6320.0       317   32019\n",
            "1  2017-09      Alaska    209.0   2320.0    2930.0       160    6303\n",
            "2  2017-09     Arizona   5069.0  11063.0    7946.0       631   28394\n",
            "3  2017-09    Arkansas   2935.0   4347.0    6063.0       366   17747\n",
            "4  2017-09  California  57839.0  37165.0   24581.0         0  123506\n"
          ]
        }
      ],
      "source": [
        "Guns_Data = df.drop(['permit_recheck', 'other', 'admin', 'prepawn_handgun', 'prepawn_long_gun', 'prepawn_other', 'redemption_handgun', 'redemption_long_gun', 'redemption_other', 'returned_handgun', 'returned_long_gun', 'returned_other', 'rentals_handgun', 'rentals_long_gun', 'private_sale_handgun', 'private_sale_long_gun', 'private_sale_other', 'return_to_seller_handgun', 'return_to_seller_long_gun', 'return_to_seller_other'], axis = 1)\n",
        "print(Guns_Data.head())"
      ]
    },
    {
      "cell_type": "markdown",
      "id": "174ff026",
      "metadata": {
        "id": "174ff026"
      },
      "source": [
        "<h5>Than I checked how many columns are null. So I can perform the required task to tidy my data.</h5>"
      ]
    },
    {
      "cell_type": "code",
      "execution_count": null,
      "id": "de79fc71",
      "metadata": {
        "id": "de79fc71",
        "outputId": "46a276eb-3bcd-479a-b7f4-b9aab70fbbc9"
      },
      "outputs": [
        {
          "data": {
            "text/plain": [
              "month        0\n",
              "state        0\n",
              "permit      24\n",
              "handgun     20\n",
              "long_gun    19\n",
              "multiple     0\n",
              "totals       0\n",
              "dtype: int64"
            ]
          },
          "execution_count": 37,
          "metadata": {},
          "output_type": "execute_result"
        }
      ],
      "source": [
        "Guns_Data.isnull().sum()"
      ]
    },
    {
      "cell_type": "markdown",
      "id": "162ab9fb",
      "metadata": {
        "id": "162ab9fb"
      },
      "source": [
        "<h5>Later I droped all the null values which were not essential and by removing them, we will not loose our important Observations.</h5>"
      ]
    },
    {
      "cell_type": "code",
      "execution_count": null,
      "id": "7abafd42",
      "metadata": {
        "id": "7abafd42",
        "outputId": "cd5a154c-9a52-4210-b9bc-29cd03b37632"
      },
      "outputs": [
        {
          "data": {
            "text/plain": [
              "month       0\n",
              "state       0\n",
              "permit      0\n",
              "handgun     0\n",
              "long_gun    0\n",
              "multiple    0\n",
              "totals      0\n",
              "dtype: int64"
            ]
          },
          "execution_count": 38,
          "metadata": {},
          "output_type": "execute_result"
        }
      ],
      "source": [
        "Guns_Data = Guns_Data.dropna()\n",
        "Guns_Data.isnull().sum()"
      ]
    },
    {
      "cell_type": "code",
      "execution_count": null,
      "id": "524b6b10",
      "metadata": {
        "id": "524b6b10",
        "outputId": "6ac235d5-241e-41ac-8c2a-11f3272f3157"
      },
      "outputs": [
        {
          "name": "stdout",
          "output_type": "stream",
          "text": [
            "<class 'pandas.core.frame.DataFrame'>\n",
            "Int64Index: 12461 entries, 0 to 12484\n",
            "Data columns (total 7 columns):\n",
            " #   Column    Non-Null Count  Dtype  \n",
            "---  ------    --------------  -----  \n",
            " 0   month     12461 non-null  object \n",
            " 1   state     12461 non-null  object \n",
            " 2   permit    12461 non-null  float64\n",
            " 3   handgun   12461 non-null  float64\n",
            " 4   long_gun  12461 non-null  float64\n",
            " 5   multiple  12461 non-null  int64  \n",
            " 6   totals    12461 non-null  int64  \n",
            "dtypes: float64(3), int64(2), object(2)\n",
            "memory usage: 778.8+ KB\n"
          ]
        },
        {
          "data": {
            "text/plain": [
              "month        object\n",
              "state        object\n",
              "permit      float64\n",
              "handgun     float64\n",
              "long_gun    float64\n",
              "multiple      int64\n",
              "totals        int64\n",
              "dtype: object"
            ]
          },
          "execution_count": 39,
          "metadata": {},
          "output_type": "execute_result"
        }
      ],
      "source": [
        "Guns_Data.info()\n",
        "Guns_Data.dtypes"
      ]
    },
    {
      "cell_type": "code",
      "execution_count": null,
      "id": "90366f0b",
      "metadata": {
        "id": "90366f0b",
        "outputId": "c598d0bc-e138-4dff-dc2c-aefb2dfbf30f"
      },
      "outputs": [
        {
          "data": {
            "text/html": [
              "<div>\n",
              "<style scoped>\n",
              "    .dataframe tbody tr th:only-of-type {\n",
              "        vertical-align: middle;\n",
              "    }\n",
              "\n",
              "    .dataframe tbody tr th {\n",
              "        vertical-align: top;\n",
              "    }\n",
              "\n",
              "    .dataframe thead th {\n",
              "        text-align: right;\n",
              "    }\n",
              "</style>\n",
              "<table border=\"1\" class=\"dataframe\">\n",
              "  <thead>\n",
              "    <tr style=\"text-align: right;\">\n",
              "      <th></th>\n",
              "      <th>month</th>\n",
              "      <th>state</th>\n",
              "      <th>permit</th>\n",
              "      <th>handgun</th>\n",
              "      <th>long_gun</th>\n",
              "      <th>multiple</th>\n",
              "      <th>totals</th>\n",
              "    </tr>\n",
              "  </thead>\n",
              "  <tbody>\n",
              "    <tr>\n",
              "      <th>0</th>\n",
              "      <td>2017-09</td>\n",
              "      <td>Alabama</td>\n",
              "      <td>16717.0</td>\n",
              "      <td>5734.0</td>\n",
              "      <td>6320.0</td>\n",
              "      <td>317</td>\n",
              "      <td>32019</td>\n",
              "    </tr>\n",
              "    <tr>\n",
              "      <th>1</th>\n",
              "      <td>2017-09</td>\n",
              "      <td>Alaska</td>\n",
              "      <td>209.0</td>\n",
              "      <td>2320.0</td>\n",
              "      <td>2930.0</td>\n",
              "      <td>160</td>\n",
              "      <td>6303</td>\n",
              "    </tr>\n",
              "    <tr>\n",
              "      <th>2</th>\n",
              "      <td>2017-09</td>\n",
              "      <td>Arizona</td>\n",
              "      <td>5069.0</td>\n",
              "      <td>11063.0</td>\n",
              "      <td>7946.0</td>\n",
              "      <td>631</td>\n",
              "      <td>28394</td>\n",
              "    </tr>\n",
              "    <tr>\n",
              "      <th>3</th>\n",
              "      <td>2017-09</td>\n",
              "      <td>Arkansas</td>\n",
              "      <td>2935.0</td>\n",
              "      <td>4347.0</td>\n",
              "      <td>6063.0</td>\n",
              "      <td>366</td>\n",
              "      <td>17747</td>\n",
              "    </tr>\n",
              "    <tr>\n",
              "      <th>4</th>\n",
              "      <td>2017-09</td>\n",
              "      <td>California</td>\n",
              "      <td>57839.0</td>\n",
              "      <td>37165.0</td>\n",
              "      <td>24581.0</td>\n",
              "      <td>0</td>\n",
              "      <td>123506</td>\n",
              "    </tr>\n",
              "  </tbody>\n",
              "</table>\n",
              "</div>"
            ],
            "text/plain": [
              "     month       state   permit  handgun  long_gun  multiple  totals\n",
              "0  2017-09     Alabama  16717.0   5734.0    6320.0       317   32019\n",
              "1  2017-09      Alaska    209.0   2320.0    2930.0       160    6303\n",
              "2  2017-09     Arizona   5069.0  11063.0    7946.0       631   28394\n",
              "3  2017-09    Arkansas   2935.0   4347.0    6063.0       366   17747\n",
              "4  2017-09  California  57839.0  37165.0   24581.0         0  123506"
            ]
          },
          "execution_count": 40,
          "metadata": {},
          "output_type": "execute_result"
        }
      ],
      "source": [
        "UGuns_Data = df.drop(['permit_recheck', 'other', 'admin', 'prepawn_handgun', 'prepawn_long_gun', 'prepawn_other', 'redemption_handgun', 'redemption_long_gun', 'redemption_other', 'returned_handgun', 'returned_long_gun', 'returned_other', 'rentals_handgun', 'rentals_long_gun', 'private_sale_handgun', 'private_sale_long_gun', 'private_sale_other', 'return_to_seller_handgun', 'return_to_seller_long_gun', 'return_to_seller_other'], axis = 1)\n",
        "UGuns_Data = UGuns_Data.dropna()\n",
        "UGuns_Data.head()"
      ]
    },
    {
      "cell_type": "markdown",
      "id": "2f5bd4f2",
      "metadata": {
        "id": "2f5bd4f2"
      },
      "source": [
        "<h5>In this line of code I have changed Data types of some columns to perform Analysis.</h5>"
      ]
    },
    {
      "cell_type": "code",
      "execution_count": null,
      "id": "6925b43a",
      "metadata": {
        "id": "6925b43a"
      },
      "outputs": [],
      "source": [
        "Months = Guns_Data.month.str.replace('/', '-')"
      ]
    },
    {
      "cell_type": "code",
      "execution_count": null,
      "id": "4ed2a4c8",
      "metadata": {
        "id": "4ed2a4c8"
      },
      "outputs": [],
      "source": [
        "Guns_Data['month'] = pd.to_datetime(Months)\n",
        "Guns_Data['permit'] = Guns_Data.permit.astype('int64')\n",
        "Guns_Data['handgun'] = Guns_Data.handgun.astype('int64')\n",
        "Guns_Data['long_gun'] = Guns_Data.long_gun.astype('int64')"
      ]
    },
    {
      "cell_type": "code",
      "execution_count": null,
      "id": "f34a4d07",
      "metadata": {
        "id": "f34a4d07",
        "outputId": "cc0373e9-e425-41d3-caf6-a2bc1964f363"
      },
      "outputs": [
        {
          "name": "stdout",
          "output_type": "stream",
          "text": [
            "<class 'pandas.core.frame.DataFrame'>\n",
            "Int64Index: 12461 entries, 0 to 12484\n",
            "Data columns (total 7 columns):\n",
            " #   Column    Non-Null Count  Dtype         \n",
            "---  ------    --------------  -----         \n",
            " 0   month     12461 non-null  datetime64[ns]\n",
            " 1   state     12461 non-null  object        \n",
            " 2   permit    12461 non-null  int64         \n",
            " 3   handgun   12461 non-null  int64         \n",
            " 4   long_gun  12461 non-null  int64         \n",
            " 5   multiple  12461 non-null  int64         \n",
            " 6   totals    12461 non-null  int64         \n",
            "dtypes: datetime64[ns](1), int64(5), object(1)\n",
            "memory usage: 778.8+ KB\n"
          ]
        }
      ],
      "source": [
        "Guns_Data.info()"
      ]
    },
    {
      "cell_type": "markdown",
      "id": "04d71323",
      "metadata": {
        "id": "04d71323"
      },
      "source": [
        "<h5>Than I Set the month column as Index.</h5>"
      ]
    },
    {
      "cell_type": "code",
      "execution_count": null,
      "id": "0a817d54",
      "metadata": {
        "id": "0a817d54",
        "outputId": "ee9552ab-918c-4444-c9fe-408b8c4948d8"
      },
      "outputs": [
        {
          "data": {
            "text/html": [
              "<div>\n",
              "<style scoped>\n",
              "    .dataframe tbody tr th:only-of-type {\n",
              "        vertical-align: middle;\n",
              "    }\n",
              "\n",
              "    .dataframe tbody tr th {\n",
              "        vertical-align: top;\n",
              "    }\n",
              "\n",
              "    .dataframe thead th {\n",
              "        text-align: right;\n",
              "    }\n",
              "</style>\n",
              "<table border=\"1\" class=\"dataframe\">\n",
              "  <thead>\n",
              "    <tr style=\"text-align: right;\">\n",
              "      <th></th>\n",
              "      <th>state</th>\n",
              "      <th>permit</th>\n",
              "      <th>handgun</th>\n",
              "      <th>long_gun</th>\n",
              "      <th>multiple</th>\n",
              "      <th>totals</th>\n",
              "    </tr>\n",
              "    <tr>\n",
              "      <th>month</th>\n",
              "      <th></th>\n",
              "      <th></th>\n",
              "      <th></th>\n",
              "      <th></th>\n",
              "      <th></th>\n",
              "      <th></th>\n",
              "    </tr>\n",
              "  </thead>\n",
              "  <tbody>\n",
              "    <tr>\n",
              "      <th>2017-09-01</th>\n",
              "      <td>Alabama</td>\n",
              "      <td>16717</td>\n",
              "      <td>5734</td>\n",
              "      <td>6320</td>\n",
              "      <td>317</td>\n",
              "      <td>32019</td>\n",
              "    </tr>\n",
              "    <tr>\n",
              "      <th>2017-09-01</th>\n",
              "      <td>Alaska</td>\n",
              "      <td>209</td>\n",
              "      <td>2320</td>\n",
              "      <td>2930</td>\n",
              "      <td>160</td>\n",
              "      <td>6303</td>\n",
              "    </tr>\n",
              "    <tr>\n",
              "      <th>2017-09-01</th>\n",
              "      <td>Arizona</td>\n",
              "      <td>5069</td>\n",
              "      <td>11063</td>\n",
              "      <td>7946</td>\n",
              "      <td>631</td>\n",
              "      <td>28394</td>\n",
              "    </tr>\n",
              "    <tr>\n",
              "      <th>2017-09-01</th>\n",
              "      <td>Arkansas</td>\n",
              "      <td>2935</td>\n",
              "      <td>4347</td>\n",
              "      <td>6063</td>\n",
              "      <td>366</td>\n",
              "      <td>17747</td>\n",
              "    </tr>\n",
              "    <tr>\n",
              "      <th>2017-09-01</th>\n",
              "      <td>California</td>\n",
              "      <td>57839</td>\n",
              "      <td>37165</td>\n",
              "      <td>24581</td>\n",
              "      <td>0</td>\n",
              "      <td>123506</td>\n",
              "    </tr>\n",
              "    <tr>\n",
              "      <th>...</th>\n",
              "      <td>...</td>\n",
              "      <td>...</td>\n",
              "      <td>...</td>\n",
              "      <td>...</td>\n",
              "      <td>...</td>\n",
              "      <td>...</td>\n",
              "    </tr>\n",
              "    <tr>\n",
              "      <th>1998-11-01</th>\n",
              "      <td>Virginia</td>\n",
              "      <td>0</td>\n",
              "      <td>14</td>\n",
              "      <td>2</td>\n",
              "      <td>8</td>\n",
              "      <td>24</td>\n",
              "    </tr>\n",
              "    <tr>\n",
              "      <th>1998-11-01</th>\n",
              "      <td>Washington</td>\n",
              "      <td>1</td>\n",
              "      <td>65</td>\n",
              "      <td>286</td>\n",
              "      <td>8</td>\n",
              "      <td>361</td>\n",
              "    </tr>\n",
              "    <tr>\n",
              "      <th>1998-11-01</th>\n",
              "      <td>West Virginia</td>\n",
              "      <td>3</td>\n",
              "      <td>149</td>\n",
              "      <td>251</td>\n",
              "      <td>5</td>\n",
              "      <td>408</td>\n",
              "    </tr>\n",
              "    <tr>\n",
              "      <th>1998-11-01</th>\n",
              "      <td>Wisconsin</td>\n",
              "      <td>0</td>\n",
              "      <td>25</td>\n",
              "      <td>214</td>\n",
              "      <td>2</td>\n",
              "      <td>241</td>\n",
              "    </tr>\n",
              "    <tr>\n",
              "      <th>1998-11-01</th>\n",
              "      <td>Wyoming</td>\n",
              "      <td>8</td>\n",
              "      <td>45</td>\n",
              "      <td>49</td>\n",
              "      <td>5</td>\n",
              "      <td>107</td>\n",
              "    </tr>\n",
              "  </tbody>\n",
              "</table>\n",
              "<p>12461 rows × 6 columns</p>\n",
              "</div>"
            ],
            "text/plain": [
              "                    state  permit  handgun  long_gun  multiple  totals\n",
              "month                                                                 \n",
              "2017-09-01        Alabama   16717     5734      6320       317   32019\n",
              "2017-09-01         Alaska     209     2320      2930       160    6303\n",
              "2017-09-01        Arizona    5069    11063      7946       631   28394\n",
              "2017-09-01       Arkansas    2935     4347      6063       366   17747\n",
              "2017-09-01     California   57839    37165     24581         0  123506\n",
              "...                   ...     ...      ...       ...       ...     ...\n",
              "1998-11-01       Virginia       0       14         2         8      24\n",
              "1998-11-01     Washington       1       65       286         8     361\n",
              "1998-11-01  West Virginia       3      149       251         5     408\n",
              "1998-11-01      Wisconsin       0       25       214         2     241\n",
              "1998-11-01        Wyoming       8       45        49         5     107\n",
              "\n",
              "[12461 rows x 6 columns]"
            ]
          },
          "execution_count": 44,
          "metadata": {},
          "output_type": "execute_result"
        }
      ],
      "source": [
        "Guns_Data = Guns_Data.set_index('month')\n",
        "Guns_Data"
      ]
    },
    {
      "cell_type": "markdown",
      "id": "8918229d",
      "metadata": {
        "id": "8918229d"
      },
      "source": [
        "<h5>I wrote this line of code to get the names of States present in Dataset.</h5>"
      ]
    },
    {
      "cell_type": "code",
      "execution_count": null,
      "id": "12424667",
      "metadata": {
        "id": "12424667",
        "outputId": "e567391a-2966-49c4-a848-72c8560d726b"
      },
      "outputs": [
        {
          "name": "stdout",
          "output_type": "stream",
          "text": [
            "['Alabama', 'Alaska', 'Arizona', 'Arkansas', 'California', 'Colorado', 'Connecticut', 'Delaware', 'District of Columbia', 'Florida', 'Georgia', 'Guam', 'Hawaii', 'Idaho', 'Illinois', 'Indiana', 'Iowa', 'Kansas', 'Kentucky', 'Louisiana', 'Maine', 'Mariana Islands', 'Maryland', 'Massachusetts', 'Michigan', 'Minnesota', 'Mississippi', 'Missouri', 'Montana', 'Nebraska', 'Nevada', 'New Hampshire', 'New Jersey', 'New Mexico', 'New York', 'North Carolina', 'North Dakota', 'Ohio', 'Oklahoma', 'Oregon', 'Pennsylvania', 'Puerto Rico', 'Rhode Island', 'South Carolina', 'South Dakota', 'Tennessee', 'Texas', 'Utah', 'Vermont', 'Virgin Islands', 'Virginia', 'Washington', 'West Virginia', 'Wisconsin', 'Wyoming']\n"
          ]
        }
      ],
      "source": [
        "States = Guns_Data['state'].unique()\n",
        "States = list(States)\n",
        "print(States)"
      ]
    },
    {
      "cell_type": "markdown",
      "id": "d7a5012b",
      "metadata": {
        "id": "d7a5012b"
      },
      "source": [
        "<h5>By writing this code, I created a dictionary of name All states, in which I placed name of states as key and all there data with respect to its state in values.</h5>"
      ]
    },
    {
      "cell_type": "code",
      "execution_count": null,
      "id": "1857bc00",
      "metadata": {
        "id": "1857bc00",
        "outputId": "6184063a-8e3f-43c1-fa1b-945d77570afc"
      },
      "outputs": [
        {
          "name": "stdout",
          "output_type": "stream",
          "text": [
            "              state  permit  handgun  long_gun  multiple  totals\n",
            "month                                                           \n",
            "2017-09-01  Alabama   16717     5734      6320       317   32019\n",
            "2017-08-01  Alabama   19733     6289      6045       311   35038\n",
            "2017-07-01  Alabama   18042     6046      4790       258   31474\n",
            "2017-06-01  Alabama   19508     8275      4782       334   35687\n",
            "2017-05-01  Alabama   18538     7198      4559       309   33331\n",
            "...             ...     ...      ...       ...       ...     ...\n",
            "1999-03-01  Alabama       0     9151      9991       282   19424\n",
            "1999-02-01  Alabama       0     9630     10654       299   20583\n",
            "1999-01-01  Alabama       0     7516     10311       222   18049\n",
            "1998-12-01  Alabama       0    10118     25120       268   35506\n",
            "1998-11-01  Alabama       0      449       603        10    1062\n",
            "\n",
            "[227 rows x 6 columns]\n",
            "             state  permit  handgun  long_gun  multiple  totals\n",
            "month                                                          \n",
            "2017-09-01  Alaska     209     2320      2930       160    6303\n",
            "2017-08-01  Alaska     247     2656      3097       184    6946\n",
            "2017-07-01  Alaska     222     2911      2458       180    6487\n",
            "2017-06-01  Alaska     242     2909      2254       190    6353\n",
            "2017-05-01  Alaska     247     2851      2459       170    6442\n",
            "...            ...     ...      ...       ...       ...     ...\n",
            "1999-03-01  Alaska       0     1205      1935        66    3206\n",
            "1999-02-01  Alaska       0      941      1410        62    2413\n",
            "1999-01-01  Alaska       0      830      1393        55    2278\n",
            "1998-12-01  Alaska       0     1294      2487        59    3840\n",
            "1998-11-01  Alaska       4       71        68         2     145\n",
            "\n",
            "[227 rows x 6 columns]\n",
            "              state  permit  handgun  long_gun  multiple  totals\n",
            "month                                                           \n",
            "2017-09-01  Arizona    5069    11063      7946       631   28394\n",
            "2017-08-01  Arizona    6733    10864      7686       627   29376\n",
            "2017-07-01  Arizona    5606    10194      6363       544   25714\n",
            "2017-06-01  Arizona    6505    11507      6726       606   28359\n",
            "2017-05-01  Arizona    6628    12002      6555       621   28734\n",
            "...             ...     ...      ...       ...       ...     ...\n",
            "1999-03-01  Arizona    2193     7261      5248       283   14992\n",
            "1999-02-01  Arizona    1828     7157      5251       308   14546\n",
            "1999-01-01  Arizona    1718     5937      4939       261   12859\n",
            "1998-12-01  Arizona    1733     6988      8075       268   17074\n",
            "1998-11-01  Arizona       0      169       200        10     379\n",
            "\n",
            "[227 rows x 6 columns]\n",
            "               state  permit  handgun  long_gun  multiple  totals\n",
            "month                                                            \n",
            "2017-09-01  Arkansas    2935     4347      6063       366   17747\n",
            "2017-08-01  Arkansas    3313     4827      5297       323   17517\n",
            "2017-07-01  Arkansas    2564     4343      3804       254   14015\n",
            "2017-06-01  Arkansas    3033     5634      4070       292   16614\n",
            "2017-05-01  Arkansas    4137     5181      3981       275   16749\n",
            "...              ...     ...      ...       ...       ...     ...\n",
            "1999-03-01  Arkansas      25     4886      8543       265   13720\n",
            "1999-02-01  Arkansas      10     5382      9655       301   15348\n",
            "1999-01-01  Arkansas       1     3720      7932       300   11953\n",
            "1998-12-01  Arkansas       0     4500     16485       178   21163\n",
            "1998-11-01  Arkansas       0      149       429        11     589\n",
            "\n",
            "[227 rows x 6 columns]\n",
            "                 state  permit  handgun  long_gun  multiple  totals\n",
            "month                                                              \n",
            "2017-09-01  California   57839    37165     24581         0  123506\n",
            "2017-08-01  California   59528    41110     26220         0  130901\n",
            "2017-07-01  California   52610    37027     21721         0  114595\n",
            "2017-06-01  California   60142    42726     23807         0  130187\n",
            "2017-05-01  California   58722    42442     24495         0  129307\n",
            "...                ...     ...      ...       ...       ...     ...\n",
            "1999-03-01  California    7591    32639     28097         0   68327\n",
            "1999-02-01  California    5715    27909     23847         0   57471\n",
            "1999-01-01  California    7311    25989     23653         0   56953\n",
            "1998-12-01  California    4932    27924     32488         0   65344\n",
            "1998-11-01  California     434      717       950         0    2101\n",
            "\n",
            "[227 rows x 6 columns]\n",
            "               state  permit  handgun  long_gun  multiple  totals\n",
            "month                                                            \n",
            "2017-09-01  Colorado    4356    15751     13448      1062   35873\n",
            "2017-08-01  Colorado    5219    16610     12925      1035   37150\n",
            "2017-07-01  Colorado    4392    16063     11065      1020   33811\n",
            "2017-06-01  Colorado    4920    17781     11298      1038   36459\n",
            "2017-05-01  Colorado    5408    17085     11165       988   36008\n",
            "...              ...     ...      ...       ...       ...     ...\n",
            "1999-03-01  Colorado       0     7867      8754       419   17287\n",
            "1999-02-01  Colorado       0    10028     11384       689   22239\n",
            "1999-01-01  Colorado       0     8336     10484       507   19503\n",
            "1998-12-01  Colorado       0     7744     14817       535   23176\n",
            "1998-11-01  Colorado       0      181       416        25     622\n",
            "\n",
            "[227 rows x 6 columns]\n",
            "                  state  permit  handgun  long_gun  multiple  totals\n",
            "month                                                               \n",
            "2017-09-01  Connecticut    4343     4834      1993         0   12117\n",
            "2017-08-01  Connecticut    5896     5289      1988         0   14019\n",
            "2017-07-01  Connecticut    6387     5450      1771         0   14525\n",
            "2017-06-01  Connecticut    8290     6203      1765         0   16504\n",
            "2017-05-01  Connecticut    8101     5951      1862         0   16149\n",
            "...                 ...     ...      ...       ...       ...     ...\n",
            "1999-03-01  Connecticut    3689     2042      2132         2    7877\n",
            "1999-02-01  Connecticut    4526     1736      1802         1    8069\n",
            "1999-01-01  Connecticut    3010     1636      1563         4    6265\n",
            "1998-12-01  Connecticut    2800     1502      2451         6    6790\n",
            "1998-11-01  Connecticut      17       19        35         0      80\n",
            "\n",
            "[227 rows x 6 columns]\n",
            "               state  permit  handgun  long_gun  multiple  totals\n",
            "month                                                            \n",
            "2017-09-01  Delaware     275     1414      1538        68    3502\n",
            "2017-08-01  Delaware     288     1571      1349        58    3509\n",
            "2017-07-01  Delaware     305     1417      1000        60    2981\n",
            "2017-06-01  Delaware     533     1724      1082        66    3634\n",
            "2017-05-01  Delaware     863     1752      1087        72    4012\n",
            "...              ...     ...      ...       ...       ...     ...\n",
            "1999-03-01  Delaware       0      572       731        11    1314\n",
            "1999-02-01  Delaware       0      477       588        12    1077\n",
            "1999-01-01  Delaware       0      419       702         7    1128\n",
            "1998-12-01  Delaware       0      493      1578         9    2080\n",
            "1998-11-01  Delaware       0       14        40         1      55\n",
            "\n",
            "[227 rows x 6 columns]\n",
            "                           state  permit  handgun  long_gun  multiple  totals\n",
            "month                                                                        \n",
            "2017-09-01  District of Columbia       1       56         4         0      61\n",
            "2017-08-01  District of Columbia      19       54         6         1      80\n",
            "2017-07-01  District of Columbia      19       44         5         0      68\n",
            "2017-06-01  District of Columbia      17       52         5         0      74\n",
            "2017-05-01  District of Columbia      10       66         4         2      82\n",
            "...                          ...     ...      ...       ...       ...     ...\n",
            "1999-03-01  District of Columbia       0        2         0         0       2\n",
            "1999-02-01  District of Columbia       0        2         1         0       3\n",
            "1999-01-01  District of Columbia       0        0         1         0       1\n",
            "1998-12-01  District of Columbia       0        0         0         0       0\n",
            "1998-11-01  District of Columbia       0        0         0         0       0\n",
            "\n",
            "[227 rows x 6 columns]\n",
            "              state  permit  handgun  long_gun  multiple  totals\n",
            "month                                                           \n",
            "2017-09-01  Florida   10784    39199     17949      1721   77390\n",
            "2017-08-01  Florida   18362    46682     21717      2048   96664\n",
            "2017-07-01  Florida   16978    47430     18941      1844   92822\n",
            "2017-06-01  Florida   18831    52114     19380      2012  100508\n",
            "2017-05-01  Florida   19014    49700     18476      1907   96556\n",
            "...             ...     ...      ...       ...       ...     ...\n",
            "1999-03-01  Florida       0    12149      9442       397   23492\n",
            "1999-02-01  Florida       0    11269      9182       506   22252\n",
            "1999-01-01  Florida       0     9287      8559       324   18999\n",
            "1998-12-01  Florida       0    11188     18840       337   31529\n",
            "1998-11-01  Florida       0      319       443        10     812\n",
            "\n",
            "[227 rows x 6 columns]\n",
            "              state  permit  handgun  long_gun  multiple  totals\n",
            "month                                                           \n",
            "2017-09-01  Georgia   12074    10933      7982       494   35371\n",
            "2017-08-01  Georgia   15046    11719      7797       525   38830\n",
            "2017-07-01  Georgia   14623    10685      6166       400   35085\n",
            "2017-06-01  Georgia   15591    13617      6474       497   39874\n",
            "2017-05-01  Georgia   14860    12163      6211       442   36905\n",
            "...             ...     ...      ...       ...       ...     ...\n",
            "1999-03-01  Georgia    5353     9823      9705       318   33756\n",
            "1999-02-01  Georgia    4760    11288     10565       336   36251\n",
            "1999-01-01  Georgia    3040     6131      6081       184   20860\n",
            "1998-12-01  Georgia     471     1270      1633        27    3757\n",
            "1998-11-01  Georgia       2       18        32         4      62\n",
            "\n",
            "[227 rows x 6 columns]\n",
            "           state  permit  handgun  long_gun  multiple  totals\n",
            "month                                                        \n",
            "2017-09-01  Guam       0       74        47         3     135\n",
            "2017-08-01  Guam       0      105        47         2     159\n",
            "2017-07-01  Guam       0       71        45        14     145\n",
            "2017-06-01  Guam       0       94        42        10     156\n",
            "2017-05-01  Guam       0       93        49         8     157\n",
            "...          ...     ...      ...       ...       ...     ...\n",
            "1999-03-01  Guam       0        5         1         0       6\n",
            "1999-02-01  Guam       0        4         2         1       7\n",
            "1999-01-01  Guam       0        0         2         0       2\n",
            "1998-12-01  Guam       0        2         7         0       9\n",
            "1998-11-01  Guam       0        0         0         0       0\n",
            "\n",
            "[227 rows x 6 columns]\n",
            "             state  permit  handgun  long_gun  multiple  totals\n",
            "month                                                          \n",
            "2017-09-01  Hawaii     946        0         0         0     948\n",
            "2017-08-01  Hawaii    1077        0         0         0    1079\n",
            "2017-07-01  Hawaii    1107        0         0         0    1109\n",
            "2017-06-01  Hawaii    1082        0         0         0    1083\n",
            "2017-05-01  Hawaii    1114        0         0         0    1117\n",
            "...            ...     ...      ...       ...       ...     ...\n",
            "1999-03-01  Hawaii     447        0         0         0     447\n",
            "1999-02-01  Hawaii     327        0         0         0     327\n",
            "1999-01-01  Hawaii     262        0         0         0     262\n",
            "1998-12-01  Hawaii     374        1        28         0     403\n",
            "1998-11-01  Hawaii      27        0         1         0      28\n",
            "\n",
            "[227 rows x 6 columns]\n",
            "            state  permit  handgun  long_gun  multiple  totals\n",
            "month                                                         \n",
            "2017-09-01  Idaho    5162     3058      5241       205   14938\n",
            "2017-08-01  Idaho    4736     3216      3966       205   13341\n",
            "2017-07-01  Idaho    4539     2887      3276       149   11871\n",
            "2017-06-01  Idaho   11559     3645      3698       184   20241\n",
            "2017-05-01  Idaho    4933     3267      3699       181   13065\n",
            "...           ...     ...      ...       ...       ...     ...\n",
            "1999-03-01  Idaho       0     2014      3889       150    6357\n",
            "1999-02-01  Idaho       0     1808      3228       110    5480\n",
            "1999-01-01  Idaho       0     1738      2922       103    5080\n",
            "1998-12-01  Idaho       0     1827      4906        88    7163\n",
            "1998-11-01  Idaho       0       46       127         3     176\n",
            "\n",
            "[227 rows x 6 columns]\n"
          ]
        },
        {
          "name": "stdout",
          "output_type": "stream",
          "text": [
            "               state  permit  handgun  long_gun  multiple  totals\n",
            "month                                                            \n",
            "2017-09-01  Illinois   15712    18290     10201       814  116449\n",
            "2017-08-01  Illinois   17053    19807     11333       779  126921\n",
            "2017-07-01  Illinois   13652    18417      9895       765  108000\n",
            "2017-06-01  Illinois   14883    21394      9491       790  113889\n",
            "2017-05-01  Illinois   14857    22244      9252       774  121746\n",
            "...              ...     ...      ...       ...       ...     ...\n",
            "1999-03-01  Illinois   24876     8727      9286       200   43089\n",
            "1999-02-01  Illinois   22038     8106      8088       217   38449\n",
            "1999-01-01  Illinois   22165     6131      6989       174   35459\n",
            "1998-12-01  Illinois   24022     6207     11032       194   41455\n",
            "1998-11-01  Illinois       4        0        18         0      22\n",
            "\n",
            "[227 rows x 6 columns]\n",
            "              state  permit  handgun  long_gun  multiple  totals\n",
            "month                                                           \n",
            "2017-09-01  Indiana   18241    16093     11332       597   48524\n",
            "2017-08-01  Indiana   15664    17271     11844       698   47649\n",
            "2017-07-01  Indiana   19386    15385      9995       584   47145\n",
            "2017-06-01  Indiana   19163    18351      9706       528   49689\n",
            "2017-05-01  Indiana   24235    18110      9483       618   54347\n",
            "...             ...     ...      ...       ...       ...     ...\n",
            "1999-03-01  Indiana       0     3426     13502        10   16938\n",
            "1999-02-01  Indiana       0     3260     12695         6   15961\n",
            "1999-01-01  Indiana       0     2552     12777         8   15337\n",
            "1998-12-01  Indiana       0     5232     16924        15   22171\n",
            "1998-11-01  Indiana       0      125       219         3     347\n",
            "\n",
            "[227 rows x 6 columns]\n",
            "           state  permit  handgun  long_gun  multiple  totals\n",
            "month                                                        \n",
            "2017-09-01  Iowa    5847      151      2640         1    9975\n",
            "2017-08-01  Iowa    6094      134      2002         3    9416\n",
            "2017-07-01  Iowa    5099       94      1649         4    8801\n",
            "2017-06-01  Iowa    5638       98      1641         3    8352\n",
            "2017-05-01  Iowa    6872      196      1759         3   10232\n",
            "...          ...     ...      ...       ...       ...     ...\n",
            "1999-03-01  Iowa    4647       55      2984         3    7691\n",
            "1999-02-01  Iowa    4459       60      2692         7    7222\n",
            "1999-01-01  Iowa    5553       49      2538         5    8162\n",
            "1998-12-01  Iowa    7521       64      6572         7   14168\n",
            "1998-11-01  Iowa     314        2       166         0     482\n",
            "\n",
            "[227 rows x 6 columns]\n",
            "             state  permit  handgun  long_gun  multiple  totals\n",
            "month                                                          \n",
            "2017-09-01  Kansas    1567     4518      5025       297   12856\n",
            "2017-08-01  Kansas    1642     5005      4743       330   13097\n",
            "2017-07-01  Kansas    3667     4636      3914       278   13775\n",
            "2017-06-01  Kansas    2400     5625      3788       280   13485\n",
            "2017-05-01  Kansas    1933     5022      3818       295   12337\n",
            "...            ...     ...      ...       ...       ...     ...\n",
            "1999-03-01  Kansas       0     3905      4900       187    8992\n",
            "1999-02-01  Kansas       0     3335      4170       189    7694\n",
            "1999-01-01  Kansas       0     2854      5002       167    8023\n",
            "1998-12-01  Kansas       0     3108      8738       142   11988\n",
            "1998-11-01  Kansas       0      117       273         8     398\n",
            "\n",
            "[227 rows x 6 columns]\n",
            "               state  permit  handgun  long_gun  multiple  totals\n",
            "month                                                            \n",
            "2017-09-01  Kentucky  378384     8112      7543       543  398706\n",
            "2017-08-01  Kentucky  376016     8039      6555       459  394718\n",
            "2017-07-01  Kentucky  374603     7236      5118       419  390494\n",
            "2017-06-01  Kentucky  373842     8765      5223       469  392002\n",
            "2017-05-01  Kentucky  374078     8690      5378       433  391740\n",
            "...              ...     ...      ...       ...       ...     ...\n",
            "1999-03-01  Kentucky       0     9397     10944       399   20740\n",
            "1999-02-01  Kentucky       0     9961     11874       476   22311\n",
            "1999-01-01  Kentucky       0     7938      9634       337   17909\n",
            "1998-12-01  Kentucky       0    10875     19744       410   31029\n",
            "1998-11-01  Kentucky       0      368       462        10     840\n",
            "\n",
            "[227 rows x 6 columns]\n",
            "                state  permit  handgun  long_gun  multiple  totals\n",
            "month                                                             \n",
            "2017-09-01  Louisiana    1827    10495     11573       776   27821\n",
            "2017-08-01  Louisiana    2450    10124      8788       631   24694\n",
            "2017-07-01  Louisiana    1930     9420      5992       575   20454\n",
            "2017-06-01  Louisiana    2011    11706      6324       540   23497\n",
            "2017-05-01  Louisiana    1574    10362      6302       544   21311\n",
            "...               ...     ...      ...       ...       ...     ...\n",
            "1999-03-01  Louisiana       0     7320      6696       223   14239\n",
            "1999-02-01  Louisiana       0     7259      6550       251   14060\n",
            "1999-01-01  Louisiana       0     5506      7174       169   12849\n",
            "1998-12-01  Louisiana       0     7250     19389       204   26843\n",
            "1998-11-01  Louisiana       0      322       471         6     799\n",
            "\n",
            "[226 rows x 6 columns]\n",
            "            state  permit  handgun  long_gun  multiple  totals\n",
            "month                                                         \n",
            "2017-09-01  Maine     783     3026      4220       186    8715\n",
            "2017-08-01  Maine    1109     3019      2965       163    7751\n",
            "2017-07-01  Maine     390     2695      2259       122    5837\n",
            "2017-06-01  Maine     567     3064      2188       155    6474\n",
            "2017-05-01  Maine     751     3236      2540       184    7200\n",
            "...           ...     ...      ...       ...       ...     ...\n",
            "1999-03-01  Maine       0     1304      2005        70    3379\n",
            "1999-02-01  Maine       0     1110      1574        61    2745\n",
            "1999-01-01  Maine       0      895      1394        30    2319\n",
            "1998-12-01  Maine       0     1156      2807        43    4006\n",
            "1998-11-01  Maine       0       54        41         5     100\n",
            "\n",
            "[227 rows x 6 columns]\n",
            "                      state  permit  handgun  long_gun  multiple  totals\n",
            "month                                                                   \n",
            "2017-09-01  Mariana Islands       0       12         3         1      16\n",
            "2017-08-01  Mariana Islands       0       16         7         3      27\n",
            "2017-07-01  Mariana Islands       0       11         1         1      13\n",
            "2017-06-01  Mariana Islands       0        9         2         1      12\n",
            "2017-05-01  Mariana Islands       0       10         1         0      12\n",
            "...                     ...     ...      ...       ...       ...     ...\n",
            "1999-11-01  Mariana Islands       0        0        13         0      13\n",
            "1999-10-01  Mariana Islands       0        0         0         0       0\n",
            "1999-09-01  Mariana Islands       0        0         0         0       0\n",
            "1999-08-01  Mariana Islands       0       32         5         1      38\n",
            "1998-11-01  Mariana Islands       0        0         0         0       0\n",
            "\n",
            "[218 rows x 6 columns]\n",
            "               state  permit  handgun  long_gun  multiple  totals\n",
            "month                                                            \n",
            "2017-09-01  Maryland    2424     3389      4897        34   11255\n",
            "2017-08-01  Maryland    2629     3657      4807        27   11561\n",
            "2017-07-01  Maryland    2025     3710      3922        18   10088\n",
            "2017-06-01  Maryland    2477     3968      3963        19   10945\n",
            "2017-05-01  Maryland    2378     4539      4244        30   11660\n",
            "...              ...     ...      ...       ...       ...     ...\n",
            "1999-03-01  Maryland    6637      212      3717        13   10579\n",
            "1999-02-01  Maryland    2928      186      3479         9    6602\n",
            "1999-01-01  Maryland    2336      283      3401        11    6031\n",
            "1998-12-01  Maryland    1579      871      6228        11    8689\n",
            "1998-11-01  Maryland      59       82       177         0     318\n",
            "\n",
            "[227 rows x 6 columns]\n",
            "                    state  permit  handgun  long_gun  multiple  totals\n",
            "month                                                                 \n",
            "2017-09-01  Massachusetts    7160     4749      2808       158   15460\n",
            "2017-08-01  Massachusetts    8288     4713      2507       171   16258\n",
            "2017-07-01  Massachusetts    6185     4034      2150       118   12900\n",
            "2017-06-01  Massachusetts    7347     5612      2287       149   15841\n",
            "2017-05-01  Massachusetts    8372     5100      2526       164   16651\n",
            "...                   ...     ...      ...       ...       ...     ...\n",
            "1999-03-01  Massachusetts       0      657       755        10    1593\n",
            "1999-02-01  Massachusetts       0      406       599        11    1016\n",
            "1999-01-01  Massachusetts       0      283       553         7     843\n",
            "1998-12-01  Massachusetts       0      317      1077         6    1400\n",
            "1998-11-01  Massachusetts       0        4        39         0      43\n",
            "\n",
            "[227 rows x 6 columns]\n",
            "               state  permit  handgun  long_gun  multiple  totals\n",
            "month                                                            \n",
            "2017-09-01  Michigan   16571     8654     10676       163   36944\n",
            "2017-08-01  Michigan   18347     9849      9962       249   39255\n",
            "2017-07-01  Michigan   15464     9305      7687       208   33378\n",
            "2017-06-01  Michigan   17225    11170      7578       200   37088\n",
            "2017-05-01  Michigan   20040    10483      7055       191   38548\n",
            "...              ...     ...      ...       ...       ...     ...\n",
            "1999-03-01  Michigan   12821      217     12207         6   25251\n",
            "1999-02-01  Michigan   10242      102      9982         9   20335\n",
            "1999-01-01  Michigan    7669       92      8283         2   16046\n",
            "1998-12-01  Michigan    9507      124     19930        10   29571\n",
            "1998-11-01  Michigan     579        3       443         0    1025\n",
            "\n",
            "[227 rows x 6 columns]\n",
            "                state  permit  handgun  long_gun  multiple  totals\n",
            "month                                                             \n",
            "2017-09-01  Minnesota   25645     4862     12677       273   44552\n",
            "2017-08-01  Minnesota   28449     5446     11294       315   46613\n",
            "2017-07-01  Minnesota   27018     5181      7734       245   41186\n",
            "2017-06-01  Minnesota   29559     6258      7505       286   44775\n",
            "2017-05-01  Minnesota   38515     7916      7597       327   55570\n",
            "...               ...     ...      ...       ...       ...     ...\n",
            "1999-03-01  Minnesota    3871     2442      7366        68   13747\n",
            "1999-02-01  Minnesota    2781     1559      5084        49    9473\n",
            "1999-01-01  Minnesota    1903     1049      3736        36    6724\n",
            "1998-12-01  Minnesota    1990     1078      8687        42   11797\n",
            "1998-11-01  Minnesota       9       27       280         3     319\n",
            "\n",
            "[227 rows x 6 columns]\n",
            "                  state  permit  handgun  long_gun  multiple  totals\n",
            "month                                                               \n",
            "2017-09-01  Mississippi    1362     6260      6035       405   17491\n",
            "2017-08-01  Mississippi    1703     9059      7738       565   21963\n",
            "2017-07-01  Mississippi    1506     5961      3980       320   14388\n",
            "2017-06-01  Mississippi    1783     7987      4029       382   17154\n",
            "2017-05-01  Mississippi    1743     7002      3938       326   15680\n",
            "...                 ...     ...      ...       ...       ...     ...\n",
            "1999-03-01  Mississippi       0     6818      6875       164   13857\n",
            "1999-02-01  Mississippi       0     7988      7681       213   15882\n",
            "1999-01-01  Mississippi       0     4989      7294       153   12436\n",
            "1998-12-01  Mississippi       0     6838     18280       195   25313\n",
            "1998-11-01  Mississippi       0      286       491         7     784\n",
            "\n",
            "[227 rows x 6 columns]\n",
            "               state  permit  handgun  long_gun  multiple  totals\n",
            "month                                                            \n",
            "2017-09-01  Missouri     791    16993     14395       991   37571\n",
            "2017-08-01  Missouri     897    17369     13918      1027   37449\n",
            "2017-07-01  Missouri     716    16151     11098       857   32415\n",
            "2017-06-01  Missouri     730    19459     11470       935   36752\n",
            "2017-05-01  Missouri     685    18290     11468       857   34965\n",
            "...              ...     ...      ...       ...       ...     ...\n",
            "1999-03-01  Missouri       4     5087     12245       231   17567\n",
            "1999-02-01  Missouri       0     4175     12484       155   16814\n",
            "1999-01-01  Missouri       0     3072     10250       168   13490\n",
            "1998-12-01  Missouri       0     4096     19295       118   23509\n",
            "1998-11-01  Missouri       0      116       458         4     578\n",
            "\n",
            "[227 rows x 6 columns]\n",
            "              state  permit  handgun  long_gun  multiple  totals\n",
            "month                                                           \n",
            "2017-09-01  Montana    1076     2395      4878       216   10283\n",
            "2017-08-01  Montana    1230     2597      4034       221    9618\n",
            "2017-07-01  Montana    1043     2307      3168       156    7890\n",
            "2017-06-01  Montana    1518     3026      3727       212    9901\n",
            "2017-05-01  Montana    1460     2660      3762       199    9418\n",
            "...             ...     ...      ...       ...       ...     ...\n",
            "1999-03-01  Montana       0     1933      4024       149    6106\n",
            "1999-02-01  Montana       0     1615      3250       144    5009\n",
            "1999-01-01  Montana       0     1300      2890        86    4276\n",
            "1998-12-01  Montana       0     1694      4427        84    6205\n",
            "1998-11-01  Montana       0      101        98         2     201\n",
            "\n",
            "[227 rows x 6 columns]\n",
            "               state  permit  handgun  long_gun  multiple  totals\n",
            "month                                                            \n",
            "2017-09-01  Nebraska    3036      110      1989         4    5345\n",
            "2017-08-01  Nebraska    3180      109      1667         7    5209\n",
            "2017-07-01  Nebraska    2656       97      1204         0    4266\n",
            "2017-06-01  Nebraska    2799       99      1261         2    4265\n",
            "2017-05-01  Nebraska    3517      109      1256         5    5025\n",
            "...              ...     ...      ...       ...       ...     ...\n",
            "1999-03-01  Nebraska    1670       79      1722         4    3475\n",
            "1999-02-01  Nebraska    1510       54      1604         4    3172\n",
            "1999-01-01  Nebraska    1379       74      1701         5    3159\n",
            "1998-12-01  Nebraska    1837       90      4537         5    6469\n",
            "1998-11-01  Nebraska      88        1        96         1     186\n",
            "\n",
            "[227 rows x 6 columns]\n",
            "             state  permit  handgun  long_gun  multiple  totals\n",
            "month                                                          \n",
            "2017-09-01  Nevada    1952     3992      2509       237    9460\n",
            "2017-08-01  Nevada    1788     4052      2251       241    9035\n",
            "2017-07-01  Nevada    1805     3647      1962       223    8310\n",
            "2017-06-01  Nevada    2895     4449      2337       219   10602\n",
            "2017-05-01  Nevada    2017     4630      2288       234    9803\n",
            "...            ...     ...      ...       ...       ...     ...\n",
            "1999-03-01  Nevada       0     2850      2310       203    5363\n",
            "1999-02-01  Nevada       0     2617      2067       185    4869\n",
            "1999-01-01  Nevada       0     2596      1985       143    4724\n",
            "1998-12-01  Nevada       0     2851      3286       143    6280\n",
            "1998-11-01  Nevada       0       75        76         8     159\n",
            "\n",
            "[227 rows x 6 columns]\n"
          ]
        },
        {
          "name": "stdout",
          "output_type": "stream",
          "text": [
            "                    state  permit  handgun  long_gun  multiple  totals\n",
            "month                                                                 \n",
            "2017-09-01  New Hampshire    2795     4410      3248         3   10689\n",
            "2017-08-01  New Hampshire    2065     4164      2885         3    9313\n",
            "2017-07-01  New Hampshire    1451     4228      2427         4    8333\n",
            "2017-06-01  New Hampshire    1659     4836      2412         2    9184\n",
            "2017-05-01  New Hampshire    1503     4614      2472         5    8868\n",
            "...                   ...     ...      ...       ...       ...     ...\n",
            "1999-03-01  New Hampshire       0       59      1801         5    1865\n",
            "1999-02-01  New Hampshire       0       44      1405        16    1465\n",
            "1999-01-01  New Hampshire       0       35      1415        14    1464\n",
            "1998-12-01  New Hampshire       0      104      2272        11    2387\n",
            "1998-11-01  New Hampshire       0        8        46         1      55\n",
            "\n",
            "[227 rows x 6 columns]\n",
            "                 state  permit  handgun  long_gun  multiple  totals\n",
            "month                                                              \n",
            "2017-09-01  New Jersey       0     3985      3040         0    7165\n",
            "2017-08-01  New Jersey       0     4238      3038         0    7443\n",
            "2017-07-01  New Jersey       0     4351      2519         0    7034\n",
            "2017-06-01  New Jersey       0     5022      2586         0    7790\n",
            "2017-05-01  New Jersey       0     5569      2931         0    8694\n",
            "...                ...     ...      ...       ...       ...     ...\n",
            "1999-03-01  New Jersey       0     1578      1641        50    3283\n",
            "1999-02-01  New Jersey       0     1234      1337        38    2616\n",
            "1999-01-01  New Jersey       0     1156      1302        30    2498\n",
            "1998-12-01  New Jersey       0     1130      2565        15    3718\n",
            "1998-11-01  New Jersey       0       20        53         2      77\n",
            "\n",
            "[227 rows x 6 columns]\n",
            "                 state  permit  handgun  long_gun  multiple  totals\n",
            "month                                                              \n",
            "2017-09-01  New Mexico     847     5309      4508       284   12491\n",
            "2017-08-01  New Mexico    1183     5000      3734       331   11690\n",
            "2017-07-01  New Mexico    1009     4834      3254       228   10580\n",
            "2017-06-01  New Mexico    1140     5152      3486       261   11398\n",
            "2017-05-01  New Mexico    1183     5204      3381       263   11291\n",
            "...                ...     ...      ...       ...       ...     ...\n",
            "1999-03-01  New Mexico       0     3554      4591       196    8341\n",
            "1999-02-01  New Mexico       0     3030      4489       167    7686\n",
            "1999-01-01  New Mexico       0     2581      3956       134    6671\n",
            "1998-12-01  New Mexico       0     3207      5483       132    8822\n",
            "1998-11-01  New Mexico       0       86       121         4     211\n",
            "\n",
            "[227 rows x 6 columns]\n",
            "               state  permit  handgun  long_gun  multiple  totals\n",
            "month                                                            \n",
            "2017-09-01  New York    2933     8392     16213       185   30703\n",
            "2017-08-01  New York    2952     9159     13239       158   28779\n",
            "2017-07-01  New York    2315     9212     11301       170   25576\n",
            "2017-06-01  New York    2602    10784     11309       196   27677\n",
            "2017-05-01  New York    3224    11633     12857       183   31294\n",
            "...              ...     ...      ...       ...       ...     ...\n",
            "1999-03-01  New York    8466     1202      7868        14   17668\n",
            "1999-02-01  New York    5664      865      6474        14   13144\n",
            "1999-01-01  New York    4616      882      5327        11   10897\n",
            "1998-12-01  New York    1068     1054     12234        12   14417\n",
            "1998-11-01  New York       0       40       279         0     319\n",
            "\n",
            "[227 rows x 6 columns]\n",
            "                     state  permit  handgun  long_gun  multiple  totals\n",
            "month                                                                  \n",
            "2017-09-01  North Carolina   19292     1235     11340       233   37325\n",
            "2017-08-01  North Carolina   23051     1194     11949       196   41122\n",
            "2017-07-01  North Carolina   20102     1059      9316       180   34784\n",
            "2017-06-01  North Carolina   23048     1581      9570       228   39169\n",
            "2017-05-01  North Carolina   24726     1363      9129       206   39413\n",
            "...                    ...     ...      ...       ...       ...     ...\n",
            "1999-03-01  North Carolina   11751     1523     12332       132   25738\n",
            "1999-02-01  North Carolina   10559     2065     13078       164   25866\n",
            "1999-01-01  North Carolina    8704     1570     11401        96   21771\n",
            "1998-12-01  North Carolina   11177     1812     24539       105   37633\n",
            "1998-11-01  North Carolina     524       87       695         4    1310\n",
            "\n",
            "[227 rows x 6 columns]\n",
            "                   state  permit  handgun  long_gun  multiple  totals\n",
            "month                                                                \n",
            "2017-09-01  North Dakota     486     1359      2919        82    5212\n",
            "2017-08-01  North Dakota     444     1500      2567        65    4874\n",
            "2017-07-01  North Dakota     496     1286      2030        62    4136\n",
            "2017-06-01  North Dakota    1159     1426      1942        59    4939\n",
            "2017-05-01  North Dakota    1017     1413      1866        57    4654\n",
            "...                  ...     ...      ...       ...       ...     ...\n",
            "1999-03-01  North Dakota       0      507      1538        10    2055\n",
            "1999-02-01  North Dakota       0      387      1202        11    1600\n",
            "1999-01-01  North Dakota       0      336       991        13    1340\n",
            "1998-12-01  North Dakota       0      403      1958        18    2379\n",
            "1998-11-01  North Dakota       0       20        38         0      58\n",
            "\n",
            "[227 rows x 6 columns]\n",
            "           state  permit  handgun  long_gun  multiple  totals\n",
            "month                                                        \n",
            "2017-09-01  Ohio    8741    21085     14998      1026   49942\n",
            "2017-08-01  Ohio   10264    21432     14447      1034   51103\n",
            "2017-07-01  Ohio    9440    20990     14131       959   49432\n",
            "2017-06-01  Ohio   11147    23703     13536       973   53164\n",
            "2017-05-01  Ohio   13712    25230     12924      1059   56229\n",
            "...          ...     ...      ...       ...       ...     ...\n",
            "1999-03-01  Ohio       0    12176     12276       487   24939\n",
            "1999-02-01  Ohio       0    11757     11321       446   23524\n",
            "1999-01-01  Ohio       0     7737      8708       286   16731\n",
            "1998-12-01  Ohio       0    10621     20486       422   31529\n",
            "1998-11-01  Ohio       0      502       434        16     952\n",
            "\n",
            "[227 rows x 6 columns]\n",
            "               state  permit  handgun  long_gun  multiple  totals\n",
            "month                                                            \n",
            "2017-09-01  Oklahoma       0     8869      9020       807   23371\n",
            "2017-08-01  Oklahoma       0     9732      8978       948   24061\n",
            "2017-07-01  Oklahoma       0     9377      6698       668   20738\n",
            "2017-06-01  Oklahoma       0    11872      7459       778   24632\n",
            "2017-05-01  Oklahoma       0    10599      7270       728   22693\n",
            "...              ...     ...      ...       ...       ...     ...\n",
            "1999-03-01  Oklahoma       0     5309      7724       310   13343\n",
            "1999-02-01  Oklahoma       0     5792      8527       332   14651\n",
            "1999-01-01  Oklahoma       0     4322      7526       241   12089\n",
            "1998-12-01  Oklahoma       0     5201     13984       257   19442\n",
            "1998-11-01  Oklahoma       0      259       361        13     633\n",
            "\n",
            "[227 rows x 6 columns]\n",
            "             state  permit  handgun  long_gun  multiple  totals\n",
            "month                                                          \n",
            "2017-09-01  Oregon    3774    11557     11773         7   27277\n",
            "2017-08-01  Oregon    3993    11780      8979         3   24904\n",
            "2017-07-01  Oregon    3998    11160      7877         1   23239\n",
            "2017-06-01  Oregon    4087    13632      9218         1   27103\n",
            "2017-05-01  Oregon    3978    13261      9115         3   26466\n",
            "...            ...     ...      ...       ...       ...     ...\n",
            "1999-03-01  Oregon       0     5992      7098       177   13267\n",
            "1999-02-01  Oregon       0     5332      5811       133   11276\n",
            "1999-01-01  Oregon       0     4611      4869       132    9612\n",
            "1998-12-01  Oregon       0     5269      8316        95   13680\n",
            "1998-11-01  Oregon       0      153       186         5     344\n",
            "\n",
            "[227 rows x 6 columns]\n",
            "                   state  permit  handgun  long_gun  multiple  totals\n",
            "month                                                                \n",
            "2017-09-01  Pennsylvania   23144    39825     13222         0   77003\n",
            "2017-08-01  Pennsylvania   24329    40628     13170         0   79020\n",
            "2017-07-01  Pennsylvania   23669    37329     11694         0   73654\n",
            "2017-06-01  Pennsylvania   22674    41408     11117         0   76201\n",
            "2017-05-01  Pennsylvania   24962    42646     11123         0   79725\n",
            "...                  ...     ...      ...       ...       ...     ...\n",
            "1999-03-01  Pennsylvania    1120        0     48470      1910   51500\n",
            "1999-02-01  Pennsylvania     673        0     37810       934   39417\n",
            "1999-01-01  Pennsylvania     729        4     30257      1277   32267\n",
            "1998-12-01  Pennsylvania     978       13     45262      2047   48300\n",
            "1998-11-01  Pennsylvania       0        5         8         4      17\n",
            "\n"
          ]
        },
        {
          "name": "stdout",
          "output_type": "stream",
          "text": [
            "[227 rows x 6 columns]\n",
            "                  state  permit  handgun  long_gun  multiple  totals\n",
            "month                                                               \n",
            "2017-09-01  Puerto Rico       0      619       123        22     791\n",
            "2017-08-01  Puerto Rico       0     1169       227        34    1490\n",
            "2017-07-01  Puerto Rico       0     1115       187        22    1381\n",
            "2017-06-01  Puerto Rico       0     1339       211        35    1631\n",
            "2017-05-01  Puerto Rico       0     1279       217        31    1600\n",
            "...                 ...     ...      ...       ...       ...     ...\n",
            "1999-03-01  Puerto Rico       0      349        88         8     445\n",
            "1999-02-01  Puerto Rico       0      270        64         4     338\n",
            "1999-01-01  Puerto Rico       0      304        94         4     402\n",
            "1998-12-01  Puerto Rico       0      401       101         9     511\n",
            "1998-11-01  Puerto Rico       0        1         1         0       2\n",
            "\n",
            "[227 rows x 6 columns]\n",
            "                   state  permit  handgun  long_gun  multiple  totals\n",
            "month                                                                \n",
            "2017-09-01  Rhode Island       0      907       619       163    1799\n",
            "2017-08-01  Rhode Island       0      883       596       154    1718\n",
            "2017-07-01  Rhode Island       0      836       593       129    1646\n",
            "2017-06-01  Rhode Island       0     1053       592       151    1899\n",
            "2017-05-01  Rhode Island       0     1048       541       182    1883\n",
            "...                  ...     ...      ...       ...       ...     ...\n",
            "1999-03-01  Rhode Island       0      481       395        49     925\n",
            "1999-02-01  Rhode Island       0      445       316        25     786\n",
            "1999-01-01  Rhode Island       0      412       402        20     834\n",
            "1998-12-01  Rhode Island       0      426       579        16    1021\n",
            "1998-11-01  Rhode Island       0       13        23         2      38\n",
            "\n",
            "[227 rows x 6 columns]\n",
            "                     state  permit  handgun  long_gun  multiple  totals\n",
            "month                                                                  \n",
            "2017-09-01  South Carolina    9380     7574      6037       295   25930\n",
            "2017-08-01  South Carolina   12255     8268      6421       361   31663\n",
            "2017-07-01  South Carolina   11585     7458      4622       327   26567\n",
            "2017-06-01  South Carolina   13761    11431      4533       445   32995\n",
            "2017-05-01  South Carolina   14550     9258      4234       617   31248\n",
            "...                    ...     ...      ...       ...       ...     ...\n",
            "1999-03-01  South Carolina     806     5516      5861        99   12282\n",
            "1999-02-01  South Carolina     334     6045      6057       129   12565\n",
            "1999-01-01  South Carolina      17     4397      5031        98    9543\n",
            "1998-12-01  South Carolina       0     2938      6554        67    9559\n",
            "1998-11-01  South Carolina       0        0         6         0       6\n",
            "\n",
            "[227 rows x 6 columns]\n",
            "                   state  permit  handgun  long_gun  multiple  totals\n",
            "month                                                                \n",
            "2017-09-01  South Dakota     562     2020      4155       141    7457\n",
            "2017-08-01  South Dakota     737     2082      3233       111    6686\n",
            "2017-07-01  South Dakota    1138     1926      2355        99    6068\n",
            "2017-06-01  South Dakota    1266     2215      2458       142    6704\n",
            "2017-05-01  South Dakota    1331     2369      2578       145    7004\n",
            "...                  ...     ...      ...       ...       ...     ...\n",
            "1999-03-01  South Dakota       0      351      1489        12    1852\n",
            "1999-02-01  South Dakota       0      318      1354        13    1685\n",
            "1999-01-01  South Dakota       0      220      1159        10    1389\n",
            "1998-12-01  South Dakota       0      252      2406        19    2677\n",
            "1998-11-01  South Dakota       0        8        66         0      74\n",
            "\n",
            "[227 rows x 6 columns]\n",
            "                state  permit  handgun  long_gun  multiple  totals\n",
            "month                                                             \n",
            "2017-09-01  Tennessee   16887    19219     13746         0   50945\n",
            "2017-08-01  Tennessee   14548    19965     14204         0   49945\n",
            "2017-07-01  Tennessee   19766    20279     11425         0   52643\n",
            "2017-06-01  Tennessee   16722    23369     11558         0   52959\n",
            "2017-05-01  Tennessee   23584    22198     10745         0   57763\n",
            "...               ...     ...      ...       ...       ...     ...\n",
            "1999-03-01  Tennessee       0    12141     10581       313   23035\n",
            "1999-02-01  Tennessee       0    12332     10629       343   23304\n",
            "1999-01-01  Tennessee       0     9581      8696       196   18473\n",
            "1998-12-01  Tennessee       0     9110     15356       199   24666\n",
            "1998-11-01  Tennessee       0       19        85         3     107\n",
            "\n",
            "[227 rows x 6 columns]\n",
            "            state  permit  handgun  long_gun  multiple  totals\n",
            "month                                                         \n",
            "2017-09-01  Texas   31390    39119     39416      2473  128260\n",
            "2017-08-01  Texas   22971    37277     34884      2474  110946\n",
            "2017-07-01  Texas   19006    36913     27245      2193   98338\n",
            "2017-06-01  Texas   23877    48895     29119      2307  118091\n",
            "2017-05-01  Texas   24168    42366     27991      2226  109732\n",
            "...           ...     ...      ...       ...       ...     ...\n",
            "1999-03-01  Texas    5818    21305     25971       977   54096\n",
            "1999-02-01  Texas    5444    21500     27078      1126   55148\n",
            "1999-01-01  Texas    5792    18123     26179       898   50992\n",
            "1998-12-01  Texas    5324    22478     50899       903   79605\n",
            "1998-11-01  Texas       0     1384      1349        60    2794\n",
            "\n",
            "[227 rows x 6 columns]\n",
            "           state  permit  handgun  long_gun  multiple  totals\n",
            "month                                                        \n",
            "2017-09-01  Utah   12094     2840      3960         0   20041\n",
            "2017-08-01  Utah   15013     2790      3154         0   22010\n",
            "2017-07-01  Utah   11902     2562      2546         0   17925\n",
            "2017-06-01  Utah   14721     3307      2989         0   22138\n",
            "2017-05-01  Utah   16351     3204      3144         0   23844\n",
            "...          ...     ...      ...       ...       ...     ...\n",
            "1999-03-01  Utah       0     2479      3434       108    6021\n",
            "1999-02-01  Utah       0     2575      3244       114    5933\n",
            "1999-01-01  Utah       0     2041      2936        78    5055\n",
            "1998-12-01  Utah       0     2835      7461       119   10415\n",
            "1998-11-01  Utah       0       98       169         0     267\n",
            "\n",
            "[227 rows x 6 columns]\n",
            "              state  permit  handgun  long_gun  multiple  totals\n",
            "month                                                           \n",
            "2017-09-01  Vermont       0     1276      1591        80    3084\n",
            "2017-08-01  Vermont       0     1232      1254        89    2676\n",
            "2017-07-01  Vermont       0     1127      1012        47    2275\n",
            "2017-06-01  Vermont       0     1296       973        41    2382\n",
            "2017-05-01  Vermont       0     1306      1132        49    2577\n",
            "...             ...     ...      ...       ...       ...     ...\n",
            "1999-03-01  Vermont       0      699      1219        23    1941\n",
            "1999-02-01  Vermont       0      656       998        14    1668\n",
            "1999-01-01  Vermont       0      427       605        11    1043\n",
            "1998-12-01  Vermont       0      635      1408        14    2057\n",
            "1998-11-01  Vermont       0       23        35         0      59\n",
            "\n",
            "[227 rows x 6 columns]\n",
            "                     state  permit  handgun  long_gun  multiple  totals\n",
            "month                                                                  \n",
            "2017-09-01  Virgin Islands       1        6         2         0       9\n",
            "2017-08-01  Virgin Islands      81       47         4         0     132\n",
            "2017-07-01  Virgin Islands     103       39         6         2     151\n",
            "2017-06-01  Virgin Islands     126       25         2         0     153\n",
            "2017-05-01  Virgin Islands      55       19         1         2      79\n",
            "...                    ...     ...      ...       ...       ...     ...\n",
            "1999-03-01  Virgin Islands       0        0         0         0       0\n",
            "1999-02-01  Virgin Islands       0        0         0         0       0\n",
            "1999-01-01  Virgin Islands       0        0         0         0       0\n",
            "1998-12-01  Virgin Islands       0        0         0         0       0\n",
            "1998-11-01  Virgin Islands       0        0         0         0       0\n",
            "\n",
            "[214 rows x 6 columns]\n",
            "               state  permit  handgun  long_gun  multiple  totals\n",
            "month                                                            \n",
            "2017-09-01  Virginia     585    19676     15075         0   36446\n",
            "2017-08-01  Virginia    2220    20797     14926         0   39114\n",
            "2017-07-01  Virginia    1139    20688     13381         0   36183\n",
            "2017-06-01  Virginia     728    22416     12706         0   36838\n",
            "2017-05-01  Virginia    1148    21697     12181         0   36007\n",
            "...              ...     ...      ...       ...       ...     ...\n",
            "1999-03-01  Virginia       0     8401      8593       148   17193\n",
            "1999-02-01  Virginia       0     7688      8187       145   16053\n",
            "1999-01-01  Virginia       0     6298      7556       127   14009\n",
            "1998-12-01  Virginia       0     7832     17055       248   25170\n",
            "1998-11-01  Virginia       0       14         2         8      24\n",
            "\n",
            "[226 rows x 6 columns]\n",
            "                 state  permit  handgun  long_gun  multiple  totals\n",
            "month                                                              \n",
            "2017-09-01  Washington   11451    13292     11548       587   43049\n",
            "2017-08-01  Washington   12068    13788      9776       623   42120\n",
            "2017-07-01  Washington   10910    12872      8636       565   38369\n",
            "2017-06-01  Washington   12964    16674      9805       604   46023\n",
            "2017-05-01  Washington   14176    15915      9682       584   45816\n",
            "...                ...     ...      ...       ...       ...     ...\n",
            "1999-03-01  Washington    1218     2528      6504       160   10551\n",
            "1999-02-01  Washington     805     2287      6003       164    9383\n",
            "1999-01-01  Washington     800     1891      5780       149    8695\n",
            "1998-12-01  Washington     668     1760      9022       113   11641\n",
            "1998-11-01  Washington       1       65       286         8     361\n",
            "\n",
            "[227 rows x 6 columns]\n",
            "                    state  permit  handgun  long_gun  multiple  totals\n",
            "month                                                                 \n",
            "2017-09-01  West Virginia    1668     5204      6161       387   16723\n",
            "2017-08-01  West Virginia    2028     4946      4651       341   14770\n",
            "2017-07-01  West Virginia    1798     4860      4535       328   13970\n",
            "2017-06-01  West Virginia    1889     5409      4165       328   14498\n",
            "2017-05-01  West Virginia    2141     5818      4329       321   15085\n",
            "...                   ...     ...      ...       ...       ...     ...\n",
            "1999-03-01  West Virginia      11     4194      6503       159   10867\n",
            "1999-02-01  West Virginia       6     3987      7019       194   11206\n",
            "1999-01-01  West Virginia       0     2989      5118       153    8260\n",
            "1998-12-01  West Virginia       2     4195      9427       162   13786\n",
            "1998-11-01  West Virginia       3      149       251         5     408\n",
            "\n",
            "[227 rows x 6 columns]\n",
            "                state  permit  handgun  long_gun  multiple  totals\n",
            "month                                                             \n",
            "2017-09-01  Wisconsin   12224    10918     13133        43   37506\n",
            "2017-08-01  Wisconsin   12647    12749     14317        42   40924\n",
            "2017-07-01  Wisconsin   10275    11537      9946        44   32846\n",
            "2017-06-01  Wisconsin   11645    13463      9959        41   36267\n",
            "2017-05-01  Wisconsin   13117    14070      9467        58   37888\n",
            "...               ...     ...      ...       ...       ...     ...\n",
            "1999-03-01  Wisconsin       0     5661      9218        12   14891\n",
            "1999-02-01  Wisconsin       0     3584      6982        12   10578\n",
            "1999-01-01  Wisconsin       0     2709      5063         8    7780\n",
            "1998-12-01  Wisconsin       0     3837     11344        20   15201\n",
            "1998-11-01  Wisconsin       0       25       214         2     241\n",
            "\n"
          ]
        },
        {
          "name": "stdout",
          "output_type": "stream",
          "text": [
            "[227 rows x 6 columns]\n",
            "              state  permit  handgun  long_gun  multiple  totals\n",
            "month                                                           \n",
            "2017-09-01  Wyoming     280     1337      2015        97    4281\n",
            "2017-08-01  Wyoming     408     1411      1762        86    4111\n",
            "2017-07-01  Wyoming     279     1231      1395        77    3398\n",
            "2017-06-01  Wyoming     350     1520      1544        85    3975\n",
            "2017-05-01  Wyoming     435     1589      1578        91    4128\n",
            "...             ...     ...      ...       ...       ...     ...\n",
            "1999-03-01  Wyoming     171      986      1574        45    2776\n",
            "1999-02-01  Wyoming     150      831      1584        77    2643\n",
            "1999-01-01  Wyoming      67      668      1401        44    2180\n",
            "1998-12-01  Wyoming     113      925      2303        38    3379\n",
            "1998-11-01  Wyoming       8       45        49         5     107\n",
            "\n",
            "[227 rows x 6 columns]\n"
          ]
        }
      ],
      "source": [
        "All_States={}\n",
        "for x in States:\n",
        "    y = Guns_Data[Guns_Data['state'] == x]\n",
        "    All_States[x]=y\n",
        "    print(y)"
      ]
    },
    {
      "cell_type": "markdown",
      "id": "00507dd8",
      "metadata": {
        "id": "00507dd8"
      },
      "source": [
        "<h5>I selected one state to start working on it.</h5>"
      ]
    },
    {
      "cell_type": "code",
      "execution_count": null,
      "id": "01f87330",
      "metadata": {
        "id": "01f87330"
      },
      "outputs": [],
      "source": [
        "State_Alabama = All_States['Alabama']\n",
        "State_Alabama= State_Alabama.drop(['state'], axis=1)"
      ]
    },
    {
      "cell_type": "markdown",
      "id": "6890bc2a",
      "metadata": {
        "id": "6890bc2a"
      },
      "source": [
        "<a id='eda'></a>\n",
        "## Exploratory Data Analysis\n",
        "\n",
        "\n",
        "\n",
        "### Research Question 1 (On average, How many peoples purchase Guns from 1998-2017 in State of Alabama?)\n",
        "<h5>On average, How many peoples purchase Hand Guns from 1998-2017 in State of Alabama?</h5>"
      ]
    },
    {
      "cell_type": "code",
      "execution_count": null,
      "id": "ca8af15a",
      "metadata": {
        "id": "ca8af15a",
        "outputId": "a377ccf7-9906-4e6d-d0e3-310158397066"
      },
      "outputs": [
        {
          "data": {
            "image/png": "[encoded data removed]",
            "text/plain": [
              "<Figure size 432x288 with 1 Axes>"
            ]
          },
          "metadata": {
            "needs_background": "light"
          },
          "output_type": "display_data"
        }
      ],
      "source": [
        "yearly_handguns = State_Alabama.groupby(State_Alabama.index.year).handgun.mean()\n",
        "yearly_handguns.plot()\n",
        "plt.xlabel('Years')\n",
        "plt.ylabel('Mean of Handguns')\n",
        "plt.title('Yearly Mean of Handguns Purchased by People of Alabama ')\n",
        "plt.show()"
      ]
    },
    {
      "cell_type": "markdown",
      "id": "ab0956b5",
      "metadata": {
        "id": "ab0956b5"
      },
      "source": [
        "<h5>Answer:</h5>\n",
        "<p>From the plot above we can see that in the beginning there were very fewer purchases of Hand Guns but as time passes the trend of handguns increased and in 2015, it reached its maximum value, and then we see a drastic decrease in purchasing.</p>"
      ]
    },
    {
      "cell_type": "markdown",
      "id": "6013cb7d",
      "metadata": {
        "id": "6013cb7d"
      },
      "source": [
        "<h5>On average, How many peoples purchase Long Guns from 1998-2017 in State of Alabama?</h5>"
      ]
    },
    {
      "cell_type": "code",
      "execution_count": null,
      "id": "7a945289",
      "metadata": {
        "scrolled": true,
        "id": "7a945289",
        "outputId": "411ae536-1883-419a-9dcf-e9b187c1ce67"
      },
      "outputs": [
        {
          "data": {
            "image/png": "[encoded data removed]",
            "text/plain": [
              "<Figure size 432x288 with 1 Axes>"
            ]
          },
          "metadata": {
            "needs_background": "light"
          },
          "output_type": "display_data"
        }
      ],
      "source": [
        "yearly_long_guns = State_Alabama.groupby(State_Alabama.index.year).long_gun.mean()\n",
        "yearly_long_guns.plot()\n",
        "plt.xlabel('Years')\n",
        "plt.ylabel('Mean of Long Guns')\n",
        "plt.title('Yearly Mean of Long Guns Purchased by People of Alabama ')\n",
        "plt.show()"
      ]
    },
    {
      "cell_type": "markdown",
      "id": "09217638",
      "metadata": {
        "id": "09217638"
      },
      "source": [
        "<h5>Answer:</h5>\n",
        "<p>From the plot above we can see that in the beginning there were very some purchases of Long Guns but as time passes the trend of longguns increased and in 2012, it reached its maximum value, and then we see a bit of decrease and then a drastic decrease in purchasing.</p>"
      ]
    },
    {
      "cell_type": "markdown",
      "id": "3564c38f",
      "metadata": {
        "id": "3564c38f"
      },
      "source": [
        "<h5>On average, How many peoples purchase Guns from 1998-2017 in State of Alabama?</h5>"
      ]
    },
    {
      "cell_type": "code",
      "execution_count": null,
      "id": "4dc00ebe",
      "metadata": {
        "id": "4dc00ebe",
        "outputId": "d70b67a6-51ab-409a-bf34-3aeef1b23f21"
      },
      "outputs": [
        {
          "data": {
            "image/png": "[encoded data removed]",
            "text/plain": [
              "<Figure size 432x288 with 1 Axes>"
            ]
          },
          "metadata": {
            "needs_background": "light"
          },
          "output_type": "display_data"
        }
      ],
      "source": [
        "yearly_total_guns = State_Alabama.groupby(State_Alabama.index.year).totals.mean()\n",
        "yearly_total_guns.plot()\n",
        "plt.xlabel('Years')\n",
        "plt.ylabel('Mean of Total Guns')\n",
        "plt.title('Yearly Mean of Total Guns Purchased by People of Alabama ')\n",
        "plt.show()"
      ]
    },
    {
      "cell_type": "markdown",
      "id": "be0df6bc",
      "metadata": {
        "id": "be0df6bc"
      },
      "source": [
        "<h5>Answer:</h5>\n",
        "<p>From the plot above we can see that in the beginning there were very fewer purchases of Guns but as time passes the trend of handguns increased and in 2015, it reached its maximum value, and then we see a drastic decrease in purchasing.</p>"
      ]
    },
    {
      "cell_type": "markdown",
      "id": "6ece5b0f",
      "metadata": {
        "id": "6ece5b0f"
      },
      "source": [
        "### Research Question 2 (What is the trend of buying guns in State of Alabama?)\n",
        "<h5>The Graph below shows the trends of Handguns, Longguns, Totals annualy.</h5>"
      ]
    },
    {
      "cell_type": "code",
      "execution_count": null,
      "id": "b3a4961b",
      "metadata": {
        "scrolled": true,
        "id": "b3a4961b",
        "outputId": "fd003c9a-ca50-4cb4-9d08-e5b975299f87"
      },
      "outputs": [
        {
          "data": {
            "image/png": "[encoded data removed]",
            "text/plain": [
              "<Figure size 432x288 with 3 Axes>"
            ]
          },
          "metadata": {
            "needs_background": "light"
          },
          "output_type": "display_data"
        }
      ],
      "source": [
        "yearly = pd.concat([yearly_handguns, yearly_long_guns, yearly_total_guns], axis = 1, join = 'inner')\n",
        "yearly.plot(subplots = True)\n",
        "plt.show()"
      ]
    },
    {
      "cell_type": "markdown",
      "id": "7ca80f99",
      "metadata": {
        "id": "7ca80f99"
      },
      "source": [
        "<h5>Answer:</h5>\n",
        "<p>From the plots above we can see that in the beginning there was more trend of buying long guns than handguns, but as time passes people got interested in handguns. As we can see that in the end the total trend of guns decreases.</p>"
      ]
    },
    {
      "cell_type": "markdown",
      "id": "0e651d77",
      "metadata": {
        "id": "0e651d77"
      },
      "source": [
        "### Research Question 3 (In which year more guns were purchased?\n",
        "<h5>The code below plots the graph which show the trend of guns purchased in all States Annualy.</h5>"
      ]
    },
    {
      "cell_type": "code",
      "execution_count": null,
      "id": "44ed7232",
      "metadata": {
        "id": "44ed7232",
        "outputId": "07fed59b-9b9a-40f9-f672-e1d46c3369c9"
      },
      "outputs": [
        {
          "data": {
            "image/png": "[encoded data removed]",
            "text/plain": [
              "<Figure size 432x288 with 1 Axes>"
            ]
          },
          "metadata": {
            "needs_background": "light"
          },
          "output_type": "display_data"
        }
      ],
      "source": [
        "GD = Guns_Data.groupby(Guns_Data.index.year).totals.mean()\n",
        "GD.plot()\n",
        "plt.xlabel('Years')\n",
        "plt.ylabel('Mean of Total Guns')\n",
        "plt.title('Yearly Mean of Total Guns Purchased by People in All States.')\n",
        "plt.show()"
      ]
    },
    {
      "cell_type": "markdown",
      "id": "8d74e129",
      "metadata": {
        "id": "8d74e129"
      },
      "source": [
        "<h5>Answer:</h5>\n",
        "<p>From the plots above we can see that in 2016 there were more purchases of gun then in any other year.</p>"
      ]
    },
    {
      "cell_type": "markdown",
      "id": "ebfa18aa",
      "metadata": {
        "id": "ebfa18aa"
      },
      "source": [
        "### Research Question 4 (Which State has the most purchased guns in 2016s?\n",
        "<h5>Thescode below extracts all data of 2016-06 month of all States.</h5>"
      ]
    },
    {
      "cell_type": "code",
      "execution_count": null,
      "id": "a641cd00",
      "metadata": {
        "id": "a641cd00",
        "outputId": "1789e652-1852-4b3b-8b43-a9b3cc834682"
      },
      "outputs": [
        {
          "data": {
            "text/html": [
              "<div>\n",
              "<style scoped>\n",
              "    .dataframe tbody tr th:only-of-type {\n",
              "        vertical-align: middle;\n",
              "    }\n",
              "\n",
              "    .dataframe tbody tr th {\n",
              "        vertical-align: top;\n",
              "    }\n",
              "\n",
              "    .dataframe thead th {\n",
              "        text-align: right;\n",
              "    }\n",
              "</style>\n",
              "<table border=\"1\" class=\"dataframe\">\n",
              "  <thead>\n",
              "    <tr style=\"text-align: right;\">\n",
              "      <th></th>\n",
              "      <th>month</th>\n",
              "      <th>state</th>\n",
              "      <th>permit</th>\n",
              "      <th>handgun</th>\n",
              "      <th>long_gun</th>\n",
              "      <th>multiple</th>\n",
              "      <th>totals</th>\n",
              "    </tr>\n",
              "  </thead>\n",
              "  <tbody>\n",
              "    <tr>\n",
              "      <th>825</th>\n",
              "      <td>2016-06</td>\n",
              "      <td>Alabama</td>\n",
              "      <td>24802.0</td>\n",
              "      <td>9146.0</td>\n",
              "      <td>7273.0</td>\n",
              "      <td>431</td>\n",
              "      <td>44976</td>\n",
              "    </tr>\n",
              "    <tr>\n",
              "      <th>826</th>\n",
              "      <td>2016-06</td>\n",
              "      <td>Alaska</td>\n",
              "      <td>290.0</td>\n",
              "      <td>2987.0</td>\n",
              "      <td>3204.0</td>\n",
              "      <td>185</td>\n",
              "      <td>7406</td>\n",
              "    </tr>\n",
              "    <tr>\n",
              "      <th>827</th>\n",
              "      <td>2016-06</td>\n",
              "      <td>Arizona</td>\n",
              "      <td>6371.0</td>\n",
              "      <td>12942.0</td>\n",
              "      <td>8614.0</td>\n",
              "      <td>685</td>\n",
              "      <td>32540</td>\n",
              "    </tr>\n",
              "    <tr>\n",
              "      <th>828</th>\n",
              "      <td>2016-06</td>\n",
              "      <td>Arkansas</td>\n",
              "      <td>5233.0</td>\n",
              "      <td>5454.0</td>\n",
              "      <td>4574.0</td>\n",
              "      <td>333</td>\n",
              "      <td>18779</td>\n",
              "    </tr>\n",
              "    <tr>\n",
              "      <th>829</th>\n",
              "      <td>2016-06</td>\n",
              "      <td>California</td>\n",
              "      <td>81628.0</td>\n",
              "      <td>43042.0</td>\n",
              "      <td>37512.0</td>\n",
              "      <td>0</td>\n",
              "      <td>173846</td>\n",
              "    </tr>\n",
              "  </tbody>\n",
              "</table>\n",
              "</div>"
            ],
            "text/plain": [
              "       month       state   permit  handgun  long_gun  multiple  totals\n",
              "825  2016-06     Alabama  24802.0   9146.0    7273.0       431   44976\n",
              "826  2016-06      Alaska    290.0   2987.0    3204.0       185    7406\n",
              "827  2016-06     Arizona   6371.0  12942.0    8614.0       685   32540\n",
              "828  2016-06    Arkansas   5233.0   5454.0    4574.0       333   18779\n",
              "829  2016-06  California  81628.0  43042.0   37512.0         0  173846"
            ]
          },
          "execution_count": 53,
          "metadata": {},
          "output_type": "execute_result"
        }
      ],
      "source": [
        "Guns_2016 = UGuns_Data[UGuns_Data['month'] == '2016-06']\n",
        "Guns_2016.head()"
      ]
    },
    {
      "cell_type": "markdown",
      "id": "14a098b4",
      "metadata": {
        "id": "14a098b4"
      },
      "source": [
        "<h5>The code below shows the top 15 countries with the higher rate of gun purchase.</h5>"
      ]
    },
    {
      "cell_type": "code",
      "execution_count": null,
      "id": "2ac24663",
      "metadata": {
        "id": "2ac24663",
        "outputId": "de2d996d-6e12-48b3-caab-8a99dafbd00c"
      },
      "outputs": [
        {
          "data": {
            "text/plain": [
              "843        Kentucky\n",
              "829      California\n",
              "839        Illinois\n",
              "834         Florida\n",
              "871           Texas\n",
              "840         Indiana\n",
              "865    Pennsylvania\n",
              "862            Ohio\n",
              "870       Tennessee\n",
              "876      Washington\n",
              "Name: state, dtype: object"
            ]
          },
          "execution_count": 54,
          "metadata": {},
          "output_type": "execute_result"
        }
      ],
      "source": [
        "Guns_2016 = Guns_2016.sort_values(by=['totals'], axis = 0, ascending = False).head(10)\n",
        "Guns_2016['state']"
      ]
    },
    {
      "cell_type": "code",
      "execution_count": null,
      "id": "db01cb4c",
      "metadata": {
        "id": "db01cb4c",
        "outputId": "4ab0076a-fc9c-46fd-f5a0-059222238fe4"
      },
      "outputs": [
        {
          "data": {
            "image/png": "[encoded data removed]",
            "text/plain": [
              "<Figure size 432x288 with 1 Axes>"
            ]
          },
          "metadata": {
            "needs_background": "light"
          },
          "output_type": "display_data"
        }
      ],
      "source": [
        "Guns_2016.plot(x='state', y='totals', kind='bar');"
      ]
    },
    {
      "cell_type": "markdown",
      "id": "b06e6373",
      "metadata": {
        "id": "b06e6373"
      },
      "source": [
        "<h5>Answer:</h5>\n",
        "<h6>States with higher gun purchase rate.</h6>\n",
        "<ul style=\"list-style-type:square;\">\n",
        "  <li>Kentucky</li>\n",
        "  <li>California</li>\n",
        "  <li>Illinois</li>\n",
        "  <li>Florida</li>\n",
        "  <li>Texas</li>\n",
        "  <li>Indiana</li>\n",
        "  <li>Pennsylvania</li>\n",
        "  <li>Ohio</li>\n",
        "  <li>Tennessee</li>\n",
        "  <li>Washington</li>\n",
        "</ul>"
      ]
    },
    {
      "cell_type": "markdown",
      "id": "71d851d1",
      "metadata": {
        "id": "71d851d1"
      },
      "source": [
        "<a id='conclusions'></a>\n",
        "## Conclusions\n",
        "\n",
        "<p>In <b>Conclusion</b>, The peolpe of State of Albama were more intrested in long guns in the begining than in hanguns. But as the time passes the trend of handguns increased and we see a increase in the purchase of handguns. But at a certian time the trend reached it's peak in 2016 and than we see that people stopped buying weopons. We do not the reason for this drastic decrease.According to the data Kentucky was the State in which more weapons were purchased than any other State in 2016. 2016 was also the year in which more guns were purchased than in any year. </p>\n",
        "<p>In <b>Limitations</b>, we don't have much data to analyze the decrease of guns after a certain peak. We don't have data about the crime rate in states. so we can relate the crime ratio of crime rates with the states having more guns. Does issuing more guns in a state lead to more crime rate or less?</p>"
      ]
    }
  ],
  "metadata": {
    "kernelspec": {
      "display_name": "Python 3 (ipykernel)",
      "language": "python",
      "name": "python3"
    },
    "language_info": {
      "codemirror_mode": {
        "name": "ipython",
        "version": 3
      },
      "file_extension": ".py",
      "mimetype": "text/x-python",
      "name": "python",
      "nbconvert_exporter": "python",
      "pygments_lexer": "ipython3",
      "version": "3.9.7"
    },
    "colab": {
      "provenance": [],
      "include_colab_link": true
    }
  },
  "nbformat": 4,
  "nbformat_minor": 5
}